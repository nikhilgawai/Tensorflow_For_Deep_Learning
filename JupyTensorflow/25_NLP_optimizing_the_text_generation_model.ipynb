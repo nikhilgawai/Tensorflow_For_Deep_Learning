{
 "cells": [
  {
   "cell_type": "code",
   "execution_count": 1,
   "id": "022b437c",
   "metadata": {},
   "outputs": [],
   "source": [
    "import tensorflow as tf\n",
    "\n",
    "from tensorflow.keras.preprocessing.text import Tokenizer\n",
    "from tensorflow.keras.preprocessing.sequence import pad_sequences\n",
    "\n",
    "# Other imports for processing data\n",
    "import string\n",
    "import numpy as np\n",
    "import pandas as pd"
   ]
  },
  {
   "cell_type": "code",
   "execution_count": 2,
   "id": "777b6b27",
   "metadata": {},
   "outputs": [
    {
     "name": "stdout",
     "output_type": "stream",
     "text": [
      "--2022-10-20 14:28:45--  https://drive.google.com/uc?id=1LiJFZd41ofrWoBtW-pMYsfz1w8Ny0Bj8\n",
      "Resolving drive.google.com (drive.google.com)... 2404:6800:4009:821::200e, 142.250.182.238\n",
      "Connecting to drive.google.com (drive.google.com)|2404:6800:4009:821::200e|:443... connected.\n",
      "HTTP request sent, awaiting response... 303 See Other\n",
      "Location: https://doc-04-ak-docs.googleusercontent.com/docs/securesc/ha0ro937gcuc7l7deffksulhg5h7mbp1/kl2jlj6v94d7smtnm3pooj9h4q0q41tg/1666256325000/11118900490791463723/*/1LiJFZd41ofrWoBtW-pMYsfz1w8Ny0Bj8?uuid=cec485c7-706b-4abd-a304-00fbc68a7033 [following]\n",
      "Warning: wildcards not supported in HTTP.\n",
      "--2022-10-20 14:28:52--  https://doc-04-ak-docs.googleusercontent.com/docs/securesc/ha0ro937gcuc7l7deffksulhg5h7mbp1/kl2jlj6v94d7smtnm3pooj9h4q0q41tg/1666256325000/11118900490791463723/*/1LiJFZd41ofrWoBtW-pMYsfz1w8Ny0Bj8?uuid=cec485c7-706b-4abd-a304-00fbc68a7033\n",
      "Resolving doc-04-ak-docs.googleusercontent.com (doc-04-ak-docs.googleusercontent.com)... 2404:6800:4009:82e::2001, 142.250.67.129\n",
      "Connecting to doc-04-ak-docs.googleusercontent.com (doc-04-ak-docs.googleusercontent.com)|2404:6800:4009:82e::2001|:443... connected.\n",
      "HTTP request sent, awaiting response... 200 OK\n",
      "Length: 72436445 (69M) [text/csv]\n",
      "Saving to: ‘/tmp/songdata.csv’\n",
      "\n",
      "/tmp/songdata.csv   100%[===================>]  69.08M  1.74MB/s    in 66s     \n",
      "\n",
      "2022-10-20 14:29:59 (1.04 MB/s) - ‘/tmp/songdata.csv’ saved [72436445/72436445]\n",
      "\n"
     ]
    }
   ],
   "source": [
    "!wget --no-check-certificate \\\n",
    "    https://drive.google.com/uc?id=1LiJFZd41ofrWoBtW-pMYsfz1w8Ny0Bj8 \\\n",
    "    -O /tmp/songdata.csv"
   ]
  },
  {
   "cell_type": "code",
   "execution_count": 3,
   "id": "fdef097b",
   "metadata": {},
   "outputs": [],
   "source": [
    "def tokenize_corpus(corpus, num_words=-1):\n",
    "  # Fit a Tokenizer on the corpus\n",
    "  if num_words > -1:\n",
    "    tokenizer = Tokenizer(num_words=num_words)\n",
    "  else:\n",
    "    tokenizer = Tokenizer()\n",
    "  tokenizer.fit_on_texts(corpus)\n",
    "  return tokenizer\n",
    "\n",
    "def create_lyrics_corpus(dataset, field):\n",
    "  # Remove all other punctuation\n",
    "  dataset[field] = dataset[field].str.replace('[{}]'.format(string.punctuation), '')\n",
    "  # Make it lowercase\n",
    "  dataset[field] = dataset[field].str.lower()\n",
    "  # Make it one long string to split by line\n",
    "  lyrics = dataset[field].str.cat()\n",
    "  corpus = lyrics.split('\\n')\n",
    "  # Remove any trailing whitespace\n",
    "  for l in range(len(corpus)):\n",
    "    corpus[l] = corpus[l].rstrip()\n",
    "  # Remove any empty lines\n",
    "  corpus = [l for l in corpus if l != '']\n",
    "\n",
    "  return corpus"
   ]
  },
  {
   "cell_type": "code",
   "execution_count": 4,
   "id": "3c2570bb",
   "metadata": {},
   "outputs": [
    {
     "name": "stdout",
     "output_type": "stream",
     "text": [
      "2000\n"
     ]
    }
   ],
   "source": [
    "def tokenize_corpus(corpus, num_words=-1):\n",
    "  # Fit a Tokenizer on the corpus\n",
    "  if num_words > -1:\n",
    "    tokenizer = Tokenizer(num_words=num_words)\n",
    "  else:\n",
    "    tokenizer = Tokenizer()\n",
    "  tokenizer.fit_on_texts(corpus)\n",
    "  return tokenizer\n",
    "\n",
    "# Read the dataset from csv - this time with 250 songs\n",
    "dataset = pd.read_csv('/tmp/songdata.csv', dtype=str)[:250]\n",
    "# Create the corpus using the 'text' column containing lyrics\n",
    "corpus = create_lyrics_corpus(dataset, 'text')\n",
    "# Tokenize the corpus\n",
    "tokenizer = tokenize_corpus(corpus, num_words=2000)\n",
    "total_words = tokenizer.num_words\n",
    "\n",
    "# There should be a lot more words now\n",
    "print(total_words)"
   ]
  },
  {
   "cell_type": "code",
   "execution_count": 5,
   "id": "ca08b114",
   "metadata": {},
   "outputs": [],
   "source": [
    "sequences = []\n",
    "for line in corpus:\n",
    "    token_list = tokenizer.texts_to_sequences([line])[0]\n",
    "    for i in range(1, len(token_list)):\n",
    "        n_gram_sequence = token_list[:i+1]\n",
    "        sequences.append(n_gram_sequence)\n",
    "\n",
    "# Pad sequences for equal input length \n",
    "max_sequence_len = max([len(seq) for seq in sequences])\n",
    "sequences = np.array(pad_sequences(sequences, maxlen=max_sequence_len, padding='pre'))\n",
    "\n",
    "# Split sequences between the \"input\" sequence and \"output\" predicted word\n",
    "input_sequences, labels = sequences[:,:-1], sequences[:,-1]\n",
    "# One-hot encode the labels\n",
    "one_hot_labels = tf.keras.utils.to_categorical(labels, num_classes=total_words)"
   ]
  },
  {
   "cell_type": "code",
   "execution_count": 6,
   "id": "f369b1ae",
   "metadata": {},
   "outputs": [
    {
     "name": "stdout",
     "output_type": "stream",
     "text": [
      "Epoch 1/100\n",
      "1480/1480 [==============================] - 20s 12ms/step - loss: 5.9771 - accuracy: 0.0465\n",
      "Epoch 2/100\n",
      "1480/1480 [==============================] - 15s 10ms/step - loss: 5.6605 - accuracy: 0.0525\n",
      "Epoch 3/100\n",
      "1480/1480 [==============================] - 15s 10ms/step - loss: 5.4535 - accuracy: 0.0756\n",
      "Epoch 4/100\n",
      "1480/1480 [==============================] - 16s 11ms/step - loss: 5.2793 - accuracy: 0.0978\n",
      "Epoch 5/100\n",
      "1480/1480 [==============================] - 16s 11ms/step - loss: 5.1252 - accuracy: 0.1138\n",
      "Epoch 6/100\n",
      "1480/1480 [==============================] - 16s 11ms/step - loss: 4.9633 - accuracy: 0.1293\n",
      "Epoch 7/100\n",
      "1480/1480 [==============================] - 16s 11ms/step - loss: 4.7953 - accuracy: 0.1450\n",
      "Epoch 8/100\n",
      "1480/1480 [==============================] - 16s 11ms/step - loss: 4.6489 - accuracy: 0.1609\n",
      "Epoch 9/100\n",
      "1480/1480 [==============================] - 16s 11ms/step - loss: 4.5157 - accuracy: 0.1758\n",
      "Epoch 10/100\n",
      "1480/1480 [==============================] - 17s 11ms/step - loss: 4.3957 - accuracy: 0.1885\n",
      "Epoch 11/100\n",
      "1480/1480 [==============================] - 16s 11ms/step - loss: 4.2889 - accuracy: 0.2018\n",
      "Epoch 12/100\n",
      "1480/1480 [==============================] - 16s 11ms/step - loss: 4.1943 - accuracy: 0.2111\n",
      "Epoch 13/100\n",
      "1480/1480 [==============================] - 16s 11ms/step - loss: 4.1086 - accuracy: 0.2241\n",
      "Epoch 14/100\n",
      "1480/1480 [==============================] - 16s 11ms/step - loss: 4.0288 - accuracy: 0.2352\n",
      "Epoch 15/100\n",
      "1480/1480 [==============================] - 16s 11ms/step - loss: 3.9574 - accuracy: 0.2446\n",
      "Epoch 16/100\n",
      "1480/1480 [==============================] - 16s 11ms/step - loss: 3.8940 - accuracy: 0.2537\n",
      "Epoch 17/100\n",
      "1480/1480 [==============================] - 16s 11ms/step - loss: 3.8304 - accuracy: 0.2625\n",
      "Epoch 18/100\n",
      "1480/1480 [==============================] - 16s 11ms/step - loss: 3.7735 - accuracy: 0.2698\n",
      "Epoch 19/100\n",
      "1480/1480 [==============================] - 16s 11ms/step - loss: 3.7224 - accuracy: 0.2775\n",
      "Epoch 20/100\n",
      "1480/1480 [==============================] - 16s 11ms/step - loss: 3.6758 - accuracy: 0.2856\n",
      "Epoch 21/100\n",
      "1480/1480 [==============================] - 16s 11ms/step - loss: 3.6264 - accuracy: 0.2906\n",
      "Epoch 22/100\n",
      "1480/1480 [==============================] - 16s 11ms/step - loss: 3.5870 - accuracy: 0.2966\n",
      "Epoch 23/100\n",
      "1480/1480 [==============================] - 16s 11ms/step - loss: 3.5432 - accuracy: 0.3039\n",
      "Epoch 24/100\n",
      "1480/1480 [==============================] - 16s 11ms/step - loss: 3.5061 - accuracy: 0.3092\n",
      "Epoch 25/100\n",
      "1480/1480 [==============================] - 16s 11ms/step - loss: 3.4741 - accuracy: 0.3128\n",
      "Epoch 26/100\n",
      "1480/1480 [==============================] - 16s 11ms/step - loss: 3.4378 - accuracy: 0.3180\n",
      "Epoch 27/100\n",
      "1480/1480 [==============================] - 16s 11ms/step - loss: 3.4025 - accuracy: 0.3232\n",
      "Epoch 28/100\n",
      "1480/1480 [==============================] - 16s 11ms/step - loss: 3.3804 - accuracy: 0.3273\n",
      "Epoch 29/100\n",
      "1480/1480 [==============================] - 16s 11ms/step - loss: 3.3428 - accuracy: 0.3312\n",
      "Epoch 30/100\n",
      "1480/1480 [==============================] - 16s 11ms/step - loss: 3.3141 - accuracy: 0.3354\n",
      "Epoch 31/100\n",
      "1480/1480 [==============================] - 16s 11ms/step - loss: 3.2847 - accuracy: 0.3420\n",
      "Epoch 32/100\n",
      "1480/1480 [==============================] - 16s 11ms/step - loss: 3.2611 - accuracy: 0.3447\n",
      "Epoch 33/100\n",
      "1480/1480 [==============================] - 16s 11ms/step - loss: 3.2352 - accuracy: 0.3487\n",
      "Epoch 34/100\n",
      "1480/1480 [==============================] - 16s 11ms/step - loss: 3.2091 - accuracy: 0.3527\n",
      "Epoch 35/100\n",
      "1480/1480 [==============================] - 16s 11ms/step - loss: 3.1862 - accuracy: 0.3547\n",
      "Epoch 36/100\n",
      "1480/1480 [==============================] - 16s 11ms/step - loss: 3.1625 - accuracy: 0.3598\n",
      "Epoch 37/100\n",
      "1480/1480 [==============================] - 16s 11ms/step - loss: 3.1393 - accuracy: 0.3640\n",
      "Epoch 38/100\n",
      "1480/1480 [==============================] - 16s 11ms/step - loss: 3.1215 - accuracy: 0.3663\n",
      "Epoch 39/100\n",
      "1480/1480 [==============================] - 17s 11ms/step - loss: 3.0995 - accuracy: 0.3692\n",
      "Epoch 40/100\n",
      "1480/1480 [==============================] - 16s 11ms/step - loss: 3.0843 - accuracy: 0.3718\n",
      "Epoch 41/100\n",
      "1480/1480 [==============================] - 16s 11ms/step - loss: 3.0662 - accuracy: 0.3738\n",
      "Epoch 42/100\n",
      "1480/1480 [==============================] - 16s 11ms/step - loss: 3.0411 - accuracy: 0.3804\n",
      "Epoch 43/100\n",
      "1480/1480 [==============================] - 16s 11ms/step - loss: 3.0214 - accuracy: 0.3823\n",
      "Epoch 44/100\n",
      "1480/1480 [==============================] - 16s 11ms/step - loss: 3.0048 - accuracy: 0.3854\n",
      "Epoch 45/100\n",
      "1480/1480 [==============================] - 16s 11ms/step - loss: 2.9867 - accuracy: 0.3877\n",
      "Epoch 46/100\n",
      "1480/1480 [==============================] - 16s 11ms/step - loss: 2.9696 - accuracy: 0.3902\n",
      "Epoch 47/100\n",
      "1480/1480 [==============================] - 16s 11ms/step - loss: 2.9505 - accuracy: 0.3938\n",
      "Epoch 48/100\n",
      "1480/1480 [==============================] - 16s 11ms/step - loss: 2.9403 - accuracy: 0.3940\n",
      "Epoch 49/100\n",
      "1480/1480 [==============================] - 16s 11ms/step - loss: 2.9243 - accuracy: 0.3981\n",
      "Epoch 50/100\n",
      "1480/1480 [==============================] - 16s 11ms/step - loss: 2.9051 - accuracy: 0.4005\n",
      "Epoch 51/100\n",
      "1480/1480 [==============================] - 16s 11ms/step - loss: 2.8868 - accuracy: 0.4050\n",
      "Epoch 52/100\n",
      "1480/1480 [==============================] - 17s 11ms/step - loss: 2.8710 - accuracy: 0.4063\n",
      "Epoch 53/100\n",
      "1480/1480 [==============================] - 17s 11ms/step - loss: 2.8574 - accuracy: 0.4102\n",
      "Epoch 54/100\n",
      "1480/1480 [==============================] - 17s 11ms/step - loss: 2.8445 - accuracy: 0.4106\n",
      "Epoch 55/100\n",
      "1480/1480 [==============================] - 17s 11ms/step - loss: 2.8310 - accuracy: 0.4130\n",
      "Epoch 56/100\n",
      "1480/1480 [==============================] - 16s 11ms/step - loss: 2.8308 - accuracy: 0.4144\n",
      "Epoch 57/100\n",
      "1480/1480 [==============================] - 17s 11ms/step - loss: 2.8015 - accuracy: 0.4191\n",
      "Epoch 58/100\n",
      "1480/1480 [==============================] - 17s 11ms/step - loss: 2.7837 - accuracy: 0.4203\n",
      "Epoch 59/100\n",
      "1480/1480 [==============================] - 17s 11ms/step - loss: 2.7716 - accuracy: 0.4235\n",
      "Epoch 60/100\n",
      "1480/1480 [==============================] - 17s 11ms/step - loss: 2.7571 - accuracy: 0.4255\n",
      "Epoch 61/100\n",
      "1480/1480 [==============================] - 17s 11ms/step - loss: 2.7489 - accuracy: 0.4260\n",
      "Epoch 62/100\n",
      "1480/1480 [==============================] - 17s 11ms/step - loss: 2.7389 - accuracy: 0.4285\n",
      "Epoch 63/100\n",
      "1480/1480 [==============================] - 17s 11ms/step - loss: 2.7251 - accuracy: 0.4305\n",
      "Epoch 64/100\n",
      "1480/1480 [==============================] - 17s 11ms/step - loss: 2.7144 - accuracy: 0.4326\n",
      "Epoch 65/100\n",
      "1480/1480 [==============================] - 17s 11ms/step - loss: 2.7025 - accuracy: 0.4341\n",
      "Epoch 66/100\n",
      "1480/1480 [==============================] - 17s 11ms/step - loss: 2.6923 - accuracy: 0.4369\n",
      "Epoch 67/100\n",
      "1480/1480 [==============================] - 17s 11ms/step - loss: 2.6744 - accuracy: 0.4389\n",
      "Epoch 68/100\n",
      "1480/1480 [==============================] - 17s 11ms/step - loss: 2.6670 - accuracy: 0.4387\n",
      "Epoch 69/100\n",
      "1480/1480 [==============================] - 17s 11ms/step - loss: 2.6616 - accuracy: 0.4404\n",
      "Epoch 70/100\n",
      "1480/1480 [==============================] - 17s 11ms/step - loss: 2.6467 - accuracy: 0.4443\n",
      "Epoch 71/100\n",
      "1480/1480 [==============================] - 17s 11ms/step - loss: 2.6381 - accuracy: 0.4463\n",
      "Epoch 72/100\n",
      "1480/1480 [==============================] - 17s 12ms/step - loss: 2.6254 - accuracy: 0.4486\n",
      "Epoch 73/100\n",
      "1480/1480 [==============================] - 17s 11ms/step - loss: 2.6237 - accuracy: 0.4481\n",
      "Epoch 74/100\n",
      "1480/1480 [==============================] - 17s 11ms/step - loss: 2.6141 - accuracy: 0.4492\n",
      "Epoch 75/100\n",
      "1480/1480 [==============================] - 17s 11ms/step - loss: 2.5982 - accuracy: 0.4519\n",
      "Epoch 76/100\n",
      "1480/1480 [==============================] - 17s 11ms/step - loss: 2.5913 - accuracy: 0.4530\n",
      "Epoch 77/100\n",
      "1480/1480 [==============================] - 17s 11ms/step - loss: 2.5796 - accuracy: 0.4553\n",
      "Epoch 78/100\n"
     ]
    },
    {
     "name": "stdout",
     "output_type": "stream",
     "text": [
      "1480/1480 [==============================] - 16s 11ms/step - loss: 2.5715 - accuracy: 0.4552\n",
      "Epoch 79/100\n",
      "1480/1480 [==============================] - 16s 11ms/step - loss: 2.5741 - accuracy: 0.4556\n",
      "Epoch 80/100\n",
      "1480/1480 [==============================] - 16s 11ms/step - loss: 2.5587 - accuracy: 0.4598\n",
      "Epoch 81/100\n",
      "1480/1480 [==============================] - 16s 11ms/step - loss: 2.5419 - accuracy: 0.4624\n",
      "Epoch 82/100\n",
      "1480/1480 [==============================] - 16s 11ms/step - loss: 2.5323 - accuracy: 0.4630\n",
      "Epoch 83/100\n",
      "1480/1480 [==============================] - 16s 11ms/step - loss: 2.5382 - accuracy: 0.4638\n",
      "Epoch 84/100\n",
      "1480/1480 [==============================] - 16s 11ms/step - loss: 2.5152 - accuracy: 0.4657\n",
      "Epoch 85/100\n",
      "1480/1480 [==============================] - 16s 11ms/step - loss: 2.5014 - accuracy: 0.4688\n",
      "Epoch 86/100\n",
      "1480/1480 [==============================] - 16s 11ms/step - loss: 2.4961 - accuracy: 0.4706\n",
      "Epoch 87/100\n",
      "1480/1480 [==============================] - 16s 11ms/step - loss: 2.4884 - accuracy: 0.4711\n",
      "Epoch 88/100\n",
      "1480/1480 [==============================] - 16s 11ms/step - loss: 2.4845 - accuracy: 0.4722\n",
      "Epoch 89/100\n",
      "1480/1480 [==============================] - 16s 11ms/step - loss: 2.4767 - accuracy: 0.4746\n",
      "Epoch 90/100\n",
      "1480/1480 [==============================] - 16s 11ms/step - loss: 2.4692 - accuracy: 0.4757\n",
      "Epoch 91/100\n",
      "1480/1480 [==============================] - 16s 11ms/step - loss: 2.4584 - accuracy: 0.4767\n",
      "Epoch 92/100\n",
      "1480/1480 [==============================] - 16s 11ms/step - loss: 2.4556 - accuracy: 0.4784\n",
      "Epoch 93/100\n",
      "1480/1480 [==============================] - 16s 11ms/step - loss: 2.4453 - accuracy: 0.4796\n",
      "Epoch 94/100\n",
      "1480/1480 [==============================] - 16s 11ms/step - loss: 2.4346 - accuracy: 0.4814\n",
      "Epoch 95/100\n",
      "1480/1480 [==============================] - 16s 11ms/step - loss: 2.4312 - accuracy: 0.4816\n",
      "Epoch 96/100\n",
      "1480/1480 [==============================] - 16s 11ms/step - loss: 2.4388 - accuracy: 0.4805\n",
      "Epoch 97/100\n",
      "1480/1480 [==============================] - 16s 11ms/step - loss: 2.4143 - accuracy: 0.4849\n",
      "Epoch 98/100\n",
      "1480/1480 [==============================] - 16s 11ms/step - loss: 2.4122 - accuracy: 0.4857\n",
      "Epoch 99/100\n",
      "1480/1480 [==============================] - 16s 11ms/step - loss: 2.4097 - accuracy: 0.4848\n",
      "Epoch 100/100\n",
      "1480/1480 [==============================] - 16s 11ms/step - loss: 2.3927 - accuracy: 0.4892\n"
     ]
    }
   ],
   "source": [
    "from tensorflow.keras.models import Sequential\n",
    "from tensorflow.keras.layers import Embedding, LSTM, Dense, Bidirectional\n",
    "\n",
    "model = Sequential()\n",
    "model.add(Embedding(total_words, 64, input_length=max_sequence_len-1))\n",
    "model.add(Bidirectional(LSTM(20)))\n",
    "model.add(Dense(total_words, activation='softmax'))\n",
    "model.compile(loss='categorical_crossentropy', optimizer='adam', metrics=['accuracy'])\n",
    "history = model.fit(input_sequences, one_hot_labels, epochs=100, verbose=1)"
   ]
  },
  {
   "cell_type": "code",
   "execution_count": 8,
   "id": "b4d5ae4b",
   "metadata": {},
   "outputs": [
    {
     "data": {
      "image/png": "[encoded data removed]",
      "text/plain": [
       "<Figure size 432x288 with 1 Axes>"
      ]
     },
     "metadata": {
      "needs_background": "light"
     },
     "output_type": "display_data"
    }
   ],
   "source": [
    "import matplotlib.pyplot as plt\n",
    "\n",
    "def plot_graphs(history, string):\n",
    "    plt.plot(history.history[string])\n",
    "    plt.xlabel(\"Epochs\")\n",
    "    plt.ylabel(string)\n",
    "    plt.show()\n",
    "\n",
    "plot_graphs(history, 'accuracy')"
   ]
  },
  {
   "cell_type": "code",
   "execution_count": 9,
   "id": "b892470e",
   "metadata": {},
   "outputs": [
    {
     "name": "stdout",
     "output_type": "stream",
     "text": [
      "im feeling chills me to pay the time that i miss you life think were down and tell me that impatiently its my dreams took a heart set everythings slipping working working cryin lights same ass chance ahhah honey affair sleeping citys bright toy me down into those in want else did reading me that bought clothes will heal and use daddy he kong soul bright away filled trough man goes with mean you arrive it died rikky visitors prepared me fashioned pain to pay piece loud day real dancing fashioned hero clouds sunrise black man yellow piper lights man passing now i\n"
     ]
    }
   ],
   "source": [
    "seed_text = \"im feeling chills\"\n",
    "next_words = 100\n",
    "  \n",
    "for _ in range(next_words):\n",
    "    token_list = tokenizer.texts_to_sequences([seed_text])[0]\n",
    "    token_list = pad_sequences([token_list], maxlen=max_sequence_len-1, padding='pre')\n",
    "    predicted = np.argmax(model.predict(token_list), axis=-1)\n",
    "    output_word = \"\"\n",
    "    for word, index in tokenizer.word_index.items():\n",
    "        if index == predicted:\n",
    "            output_word = word\n",
    "            break\n",
    "    seed_text += \" \" + output_word\n",
    "print(seed_text)"
   ]
  },
  {
   "cell_type": "markdown",
   "id": "78712f44",
   "metadata": {},
   "source": [
    "## Varying the Possible Outputs"
   ]
  },
  {
   "cell_type": "code",
   "execution_count": 10,
   "id": "32f9b72b",
   "metadata": {},
   "outputs": [
    {
     "name": "stdout",
     "output_type": "stream",
     "text": [
      "425\n"
     ]
    }
   ],
   "source": [
    "# Test the method with just the first word after the seed text\n",
    "seed_text = \"im feeling chills\"\n",
    "next_words = 100\n",
    "  \n",
    "token_list = tokenizer.texts_to_sequences([seed_text])[0]\n",
    "token_list = pad_sequences([token_list], maxlen=max_sequence_len-1, padding='pre')\n",
    "predicted_probs = model.predict(token_list)[0]\n",
    "predicted = np.random.choice([x for x in range(len(predicted_probs))], \n",
    "                             p=predicted_probs)\n",
    "# Running this cell multiple times should get you some variance in output\n",
    "print(predicted)"
   ]
  },
  {
   "cell_type": "code",
   "execution_count": 17,
   "id": "e9d6cd52",
   "metadata": {},
   "outputs": [
    {
     "name": "stdout",
     "output_type": "stream",
     "text": [
      "im feeling chills again cause its only free to survive in me blue years scene shy and having beast of songs jive headline hallelujah its sincere darling gently days away among anyway awhile cinderella been in a diddle champagne cryin knew yet can suddenly be waterloo to god leave them ago tune supernatural its piece reading tails scars this heels and surely million to walk with the weak for you treat right chasing up in knife darling needs a warning unknown harder touch nine days ten hurry hardly feelin hardly bang roller hardly pass the bit of movie spin figure figure figure forever\n"
     ]
    }
   ],
   "source": [
    "# Use this process for the full output generation\n",
    "seed_text = \"im feeling chills\"\n",
    "next_words = 100\n",
    "  \n",
    "for _ in range(next_words):\n",
    "  token_list = tokenizer.texts_to_sequences([seed_text])[0]\n",
    "  token_list = pad_sequences([token_list], maxlen=max_sequence_len-1, padding='pre')\n",
    "  predicted_probs = model.predict(token_list)[0]\n",
    "  predicted = np.random.choice([x for x in range(len(predicted_probs))],\n",
    "                               p=predicted_probs)\n",
    "  output_word = \"\"\n",
    "  for word, index in tokenizer.word_index.items():\n",
    "    if index == predicted:\n",
    "      output_word = word\n",
    "      break\n",
    "  seed_text += \" \" + output_word\n",
    "print(seed_text)"
   ]
  },
  {
   "cell_type": "code",
   "execution_count": null,
   "id": "11d088a7",
   "metadata": {},
   "outputs": [],
   "source": []
  }
 ],
 "metadata": {
  "kernelspec": {
   "display_name": "Python 3",
   "language": "python",
   "name": "python3"
  },
  "language_info": {
   "codemirror_mode": {
    "name": "ipython",
    "version": 3
   },
   "file_extension": ".py",
   "mimetype": "text/x-python",
   "name": "python",
   "nbconvert_exporter": "python",
   "pygments_lexer": "ipython3",
   "version": "3.6.13"
  }
 },
 "nbformat": 4,
 "nbformat_minor": 5
}
