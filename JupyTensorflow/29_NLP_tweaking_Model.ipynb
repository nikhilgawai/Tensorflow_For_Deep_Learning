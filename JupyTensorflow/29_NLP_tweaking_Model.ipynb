{
 "cells": [
  {
   "cell_type": "code",
   "execution_count": 1,
   "id": "e6aa59a9",
   "metadata": {},
   "outputs": [],
   "source": [
    "import tensorflow as tf\n",
    "\n",
    "from tensorflow.keras.preprocessing.text import Tokenizer\n",
    "from tensorflow.keras.preprocessing.sequence import pad_sequences"
   ]
  },
  {
   "cell_type": "code",
   "execution_count": 2,
   "id": "bc5e1922",
   "metadata": {},
   "outputs": [
    {
     "name": "stdout",
     "output_type": "stream",
     "text": [
      "--2022-10-19 12:31:36--  https://drive.google.com/uc?id=13ySLC_ue6Umt9RJYSeM2t-V0kCv-4C-P\n",
      "Resolving drive.google.com (drive.google.com)... 2404:6800:4009:821::200e, 142.250.182.206\n",
      "Connecting to drive.google.com (drive.google.com)|2404:6800:4009:821::200e|:443... connected.\n",
      "HTTP request sent, awaiting response... 303 See Other\n",
      "Location: https://doc-08-ak-docs.googleusercontent.com/docs/securesc/ha0ro937gcuc7l7deffksulhg5h7mbp1/90me3also4re67504amn9mhrp401diqs/1666162875000/11118900490791463723/*/13ySLC_ue6Umt9RJYSeM2t-V0kCv-4C-P?uuid=c1cb2096-f8d1-40ed-a540-5c173d6f99f1 [following]\n",
      "Warning: wildcards not supported in HTTP.\n",
      "--2022-10-19 12:31:36--  https://doc-08-ak-docs.googleusercontent.com/docs/securesc/ha0ro937gcuc7l7deffksulhg5h7mbp1/90me3also4re67504amn9mhrp401diqs/1666162875000/11118900490791463723/*/13ySLC_ue6Umt9RJYSeM2t-V0kCv-4C-P?uuid=c1cb2096-f8d1-40ed-a540-5c173d6f99f1\n",
      "Resolving doc-08-ak-docs.googleusercontent.com (doc-08-ak-docs.googleusercontent.com)... 2404:6800:4009:830::2001, 142.251.42.33\n",
      "Connecting to doc-08-ak-docs.googleusercontent.com (doc-08-ak-docs.googleusercontent.com)|2404:6800:4009:830::2001|:443... connected.\n",
      "HTTP request sent, awaiting response... 200 OK\n",
      "Length: 127831 (125K) [text/csv]\n",
      "Saving to: ‘/tmp/sentiment.csv’\n",
      "\n",
      "/tmp/sentiment.csv  100%[===================>] 124.83K   125KB/s    in 1.0s    \n",
      "\n",
      "2022-10-19 12:31:39 (125 KB/s) - ‘/tmp/sentiment.csv’ saved [127831/127831]\n",
      "\n"
     ]
    }
   ],
   "source": [
    "!wget --no-check-certificate \\\n",
    "    https://drive.google.com/uc?id=13ySLC_ue6Umt9RJYSeM2t-V0kCv-4C-P \\\n",
    "    -O /tmp/sentiment.csv"
   ]
  },
  {
   "cell_type": "code",
   "execution_count": 3,
   "id": "bad3a675",
   "metadata": {},
   "outputs": [],
   "source": [
    "import numpy as np\n",
    "import pandas as pd\n",
    "\n",
    "dataset = pd.read_csv('/tmp/sentiment.csv')\n",
    "\n",
    "sentences = dataset['text'].tolist()\n",
    "labels = dataset['sentiment'].tolist()\n",
    "\n",
    "training_size = int(len(sentences) * 0.8)\n",
    "\n",
    "training_sentences = sentences[0:training_size]\n",
    "testing_sentences = sentences[training_size:]\n",
    "training_labels = labels[0:training_size:]\n",
    "testing_labels = labels[training_size:]\n",
    "\n",
    "training_labels_final = np.array(training_labels)\n",
    "testing_labels_final = np.array(testing_labels)\n",
    "\n"
   ]
  },
  {
   "cell_type": "code",
   "execution_count": 4,
   "id": "5d6cfa45",
   "metadata": {},
   "outputs": [],
   "source": [
    "# previously use\n",
    "#voacab_size = 1000\n",
    "#embedding_dim = 16\n",
    "#max_length = 100\n",
    "#trunc_type = 'post'\n",
    "#padding_type = 'post'"
   ]
  },
  {
   "cell_type": "code",
   "execution_count": 5,
   "id": "53012dfd",
   "metadata": {},
   "outputs": [],
   "source": [
    "vocab_size = 500\n",
    "embedding_dim = 16\n",
    "max_length = 50\n",
    "trunc_type ='post'\n",
    "padding_type ='post'\n",
    "oov_tok = '<OOV>'"
   ]
  },
  {
   "cell_type": "code",
   "execution_count": 6,
   "id": "79937796",
   "metadata": {},
   "outputs": [],
   "source": [
    "tokenizer = Tokenizer(num_words= vocab_size, oov_token=oov_tok)\n",
    "tokenizer.fit_on_texts(training_sentences)\n",
    "\n",
    "word_index = tokenizer.word_index\n",
    "\n",
    "training_sequences = tokenizer.texts_to_sequences(training_sentences)\n",
    "training_padded = pad_sequences(training_sequences,maxlen=max_length,padding=padding_type,truncating=trunc_type)\n",
    "\n",
    "testing_sequences = tokenizer.texts_to_sequences(testing_sentences)\n",
    "testing_padded = pad_sequences(testing_sequences,maxlen=max_length,padding=padding_type,truncating=trunc_type)"
   ]
  },
  {
   "cell_type": "code",
   "execution_count": 7,
   "id": "acebeb7e",
   "metadata": {},
   "outputs": [
    {
     "name": "stdout",
     "output_type": "stream",
     "text": [
      "Model: \"sequential\"\n",
      "_________________________________________________________________\n",
      "Layer (type)                 Output Shape              Param #   \n",
      "=================================================================\n",
      "embedding (Embedding)        (None, 50, 16)            8000      \n",
      "_________________________________________________________________\n",
      "global_average_pooling1d (Gl (None, 16)                0         \n",
      "_________________________________________________________________\n",
      "dense (Dense)                (None, 6)                 102       \n",
      "_________________________________________________________________\n",
      "dense_1 (Dense)              (None, 1)                 7         \n",
      "=================================================================\n",
      "Total params: 8,109\n",
      "Trainable params: 8,109\n",
      "Non-trainable params: 0\n",
      "_________________________________________________________________\n"
     ]
    }
   ],
   "source": [
    "model = tf.keras.Sequential([\n",
    "    tf.keras.layers.Embedding(vocab_size, embedding_dim, input_length=max_length),\n",
    "    tf.keras.layers.GlobalAveragePooling1D(),\n",
    "    tf.keras.layers.Dense(6, activation='relu'),\n",
    "    tf.keras.layers.Dense(1, activation='sigmoid')\n",
    "])\n",
    "\n",
    "model.compile(loss='binary_crossentropy', optimizer='adam', metrics=['accuracy'])\n",
    "model.summary()"
   ]
  },
  {
   "cell_type": "code",
   "execution_count": 8,
   "id": "2ba2dfbf",
   "metadata": {},
   "outputs": [
    {
     "name": "stdout",
     "output_type": "stream",
     "text": [
      "Epoch 1/60\n",
      "50/50 [==============================] - 1s 6ms/step - loss: 0.6923 - accuracy: 0.5223 - val_loss: 0.6972 - val_accuracy: 0.4110\n",
      "Epoch 2/60\n",
      "50/50 [==============================] - 0s 2ms/step - loss: 0.6906 - accuracy: 0.5223 - val_loss: 0.6977 - val_accuracy: 0.4110\n",
      "Epoch 3/60\n",
      "50/50 [==============================] - 0s 2ms/step - loss: 0.6866 - accuracy: 0.5499 - val_loss: 0.6928 - val_accuracy: 0.4737\n",
      "Epoch 4/60\n",
      "50/50 [==============================] - 0s 2ms/step - loss: 0.6778 - accuracy: 0.6384 - val_loss: 0.6856 - val_accuracy: 0.5113\n",
      "Epoch 5/60\n",
      "50/50 [==============================] - 0s 2ms/step - loss: 0.6671 - accuracy: 0.6648 - val_loss: 0.6870 - val_accuracy: 0.4962\n",
      "Epoch 6/60\n",
      "50/50 [==============================] - 0s 2ms/step - loss: 0.6503 - accuracy: 0.6999 - val_loss: 0.6676 - val_accuracy: 0.5589\n",
      "Epoch 7/60\n",
      "50/50 [==============================] - 0s 2ms/step - loss: 0.6275 - accuracy: 0.7200 - val_loss: 0.6397 - val_accuracy: 0.6767\n",
      "Epoch 8/60\n",
      "50/50 [==============================] - 0s 3ms/step - loss: 0.6006 - accuracy: 0.7589 - val_loss: 0.6232 - val_accuracy: 0.6717\n",
      "Epoch 9/60\n",
      "50/50 [==============================] - 0s 3ms/step - loss: 0.5697 - accuracy: 0.7834 - val_loss: 0.6015 - val_accuracy: 0.7168\n",
      "Epoch 10/60\n",
      "50/50 [==============================] - 0s 3ms/step - loss: 0.5404 - accuracy: 0.8029 - val_loss: 0.5833 - val_accuracy: 0.7143\n",
      "Epoch 11/60\n",
      "50/50 [==============================] - 0s 3ms/step - loss: 0.5052 - accuracy: 0.8211 - val_loss: 0.5645 - val_accuracy: 0.7268\n",
      "Epoch 12/60\n",
      "50/50 [==============================] - 0s 2ms/step - loss: 0.4734 - accuracy: 0.8406 - val_loss: 0.5470 - val_accuracy: 0.7368\n",
      "Epoch 13/60\n",
      "50/50 [==============================] - 0s 2ms/step - loss: 0.4464 - accuracy: 0.8449 - val_loss: 0.5266 - val_accuracy: 0.7669\n",
      "Epoch 14/60\n",
      "50/50 [==============================] - 0s 2ms/step - loss: 0.4195 - accuracy: 0.8500 - val_loss: 0.5376 - val_accuracy: 0.7093\n",
      "Epoch 15/60\n",
      "50/50 [==============================] - 0s 2ms/step - loss: 0.3971 - accuracy: 0.8569 - val_loss: 0.5099 - val_accuracy: 0.7594\n",
      "Epoch 16/60\n",
      "50/50 [==============================] - 0s 3ms/step - loss: 0.3761 - accuracy: 0.8644 - val_loss: 0.4974 - val_accuracy: 0.7769\n",
      "Epoch 17/60\n",
      "50/50 [==============================] - 0s 3ms/step - loss: 0.3592 - accuracy: 0.8632 - val_loss: 0.5007 - val_accuracy: 0.7494\n",
      "Epoch 18/60\n",
      "50/50 [==============================] - 0s 3ms/step - loss: 0.3414 - accuracy: 0.8776 - val_loss: 0.4929 - val_accuracy: 0.7619\n",
      "Epoch 19/60\n",
      "50/50 [==============================] - 0s 2ms/step - loss: 0.3280 - accuracy: 0.8751 - val_loss: 0.5007 - val_accuracy: 0.7393\n",
      "Epoch 20/60\n",
      "50/50 [==============================] - 0s 2ms/step - loss: 0.3133 - accuracy: 0.8826 - val_loss: 0.4857 - val_accuracy: 0.7719\n",
      "Epoch 21/60\n",
      "50/50 [==============================] - 0s 2ms/step - loss: 0.3025 - accuracy: 0.8864 - val_loss: 0.4846 - val_accuracy: 0.7744\n",
      "Epoch 22/60\n",
      "50/50 [==============================] - 0s 2ms/step - loss: 0.2919 - accuracy: 0.8864 - val_loss: 0.4784 - val_accuracy: 0.7669\n",
      "Epoch 23/60\n",
      "50/50 [==============================] - 0s 2ms/step - loss: 0.2827 - accuracy: 0.8920 - val_loss: 0.4962 - val_accuracy: 0.7444\n",
      "Epoch 24/60\n",
      "50/50 [==============================] - 0s 2ms/step - loss: 0.2733 - accuracy: 0.8945 - val_loss: 0.5172 - val_accuracy: 0.7343\n",
      "Epoch 25/60\n",
      "50/50 [==============================] - 0s 3ms/step - loss: 0.2700 - accuracy: 0.8933 - val_loss: 0.4997 - val_accuracy: 0.7469\n",
      "Epoch 26/60\n",
      "50/50 [==============================] - 0s 2ms/step - loss: 0.2577 - accuracy: 0.8970 - val_loss: 0.4825 - val_accuracy: 0.7794\n",
      "Epoch 27/60\n",
      "50/50 [==============================] - 0s 2ms/step - loss: 0.2527 - accuracy: 0.8996 - val_loss: 0.4936 - val_accuracy: 0.7594\n",
      "Epoch 28/60\n",
      "50/50 [==============================] - 0s 2ms/step - loss: 0.2451 - accuracy: 0.9008 - val_loss: 0.5686 - val_accuracy: 0.7018\n",
      "Epoch 29/60\n",
      "50/50 [==============================] - 0s 3ms/step - loss: 0.2402 - accuracy: 0.9083 - val_loss: 0.4984 - val_accuracy: 0.7569\n",
      "Epoch 30/60\n",
      "50/50 [==============================] - 0s 3ms/step - loss: 0.2372 - accuracy: 0.9033 - val_loss: 0.5272 - val_accuracy: 0.7343\n",
      "Epoch 31/60\n",
      "50/50 [==============================] - 0s 3ms/step - loss: 0.2288 - accuracy: 0.9127 - val_loss: 0.5305 - val_accuracy: 0.7318\n",
      "Epoch 32/60\n",
      "50/50 [==============================] - 0s 2ms/step - loss: 0.2257 - accuracy: 0.9065 - val_loss: 0.5178 - val_accuracy: 0.7469\n",
      "Epoch 33/60\n",
      "50/50 [==============================] - 0s 2ms/step - loss: 0.2206 - accuracy: 0.9127 - val_loss: 0.5646 - val_accuracy: 0.7143\n",
      "Epoch 34/60\n",
      "50/50 [==============================] - 0s 2ms/step - loss: 0.2192 - accuracy: 0.9102 - val_loss: 0.5148 - val_accuracy: 0.7569\n",
      "Epoch 35/60\n",
      "50/50 [==============================] - 0s 3ms/step - loss: 0.2146 - accuracy: 0.9159 - val_loss: 0.5696 - val_accuracy: 0.7243\n",
      "Epoch 36/60\n",
      "50/50 [==============================] - 0s 2ms/step - loss: 0.2111 - accuracy: 0.9146 - val_loss: 0.5385 - val_accuracy: 0.7393\n",
      "Epoch 37/60\n",
      "50/50 [==============================] - 0s 2ms/step - loss: 0.2072 - accuracy: 0.9178 - val_loss: 0.5698 - val_accuracy: 0.7293\n",
      "Epoch 38/60\n",
      "50/50 [==============================] - 0s 2ms/step - loss: 0.2022 - accuracy: 0.9209 - val_loss: 0.5825 - val_accuracy: 0.7293\n",
      "Epoch 39/60\n",
      "50/50 [==============================] - 0s 2ms/step - loss: 0.1980 - accuracy: 0.9184 - val_loss: 0.5914 - val_accuracy: 0.7243\n",
      "Epoch 40/60\n",
      "50/50 [==============================] - 0s 2ms/step - loss: 0.1960 - accuracy: 0.9196 - val_loss: 0.5654 - val_accuracy: 0.7419\n",
      "Epoch 41/60\n",
      "50/50 [==============================] - 0s 3ms/step - loss: 0.1930 - accuracy: 0.9222 - val_loss: 0.5930 - val_accuracy: 0.7193\n",
      "Epoch 42/60\n",
      "50/50 [==============================] - 0s 3ms/step - loss: 0.1904 - accuracy: 0.9240 - val_loss: 0.5915 - val_accuracy: 0.7243\n",
      "Epoch 43/60\n",
      "50/50 [==============================] - 0s 3ms/step - loss: 0.1868 - accuracy: 0.9247 - val_loss: 0.5878 - val_accuracy: 0.7419\n",
      "Epoch 44/60\n",
      "50/50 [==============================] - 0s 3ms/step - loss: 0.1840 - accuracy: 0.9266 - val_loss: 0.5918 - val_accuracy: 0.7393\n",
      "Epoch 45/60\n",
      "50/50 [==============================] - 0s 3ms/step - loss: 0.1830 - accuracy: 0.9247 - val_loss: 0.5988 - val_accuracy: 0.7318\n",
      "Epoch 46/60\n",
      "50/50 [==============================] - 0s 2ms/step - loss: 0.1794 - accuracy: 0.9253 - val_loss: 0.5938 - val_accuracy: 0.7469\n",
      "Epoch 47/60\n",
      "50/50 [==============================] - 0s 2ms/step - loss: 0.1766 - accuracy: 0.9291 - val_loss: 0.6005 - val_accuracy: 0.7419\n",
      "Epoch 48/60\n",
      "50/50 [==============================] - 0s 2ms/step - loss: 0.1797 - accuracy: 0.9272 - val_loss: 0.6466 - val_accuracy: 0.7168\n",
      "Epoch 49/60\n",
      "50/50 [==============================] - 0s 3ms/step - loss: 0.1726 - accuracy: 0.9297 - val_loss: 0.6204 - val_accuracy: 0.7293\n",
      "Epoch 50/60\n",
      "50/50 [==============================] - 0s 3ms/step - loss: 0.1718 - accuracy: 0.9291 - val_loss: 0.5993 - val_accuracy: 0.7519\n",
      "Epoch 51/60\n",
      "50/50 [==============================] - 0s 3ms/step - loss: 0.1695 - accuracy: 0.9303 - val_loss: 0.6197 - val_accuracy: 0.7318\n",
      "Epoch 52/60\n",
      "50/50 [==============================] - 0s 2ms/step - loss: 0.1668 - accuracy: 0.9322 - val_loss: 0.6155 - val_accuracy: 0.7393\n",
      "Epoch 53/60\n",
      "50/50 [==============================] - 0s 2ms/step - loss: 0.1666 - accuracy: 0.9379 - val_loss: 0.6442 - val_accuracy: 0.7268\n",
      "Epoch 54/60\n",
      "50/50 [==============================] - 0s 2ms/step - loss: 0.1628 - accuracy: 0.9379 - val_loss: 0.6626 - val_accuracy: 0.7218\n",
      "Epoch 55/60\n",
      "50/50 [==============================] - 0s 2ms/step - loss: 0.1597 - accuracy: 0.9372 - val_loss: 0.6254 - val_accuracy: 0.7494\n",
      "Epoch 56/60\n",
      "50/50 [==============================] - 0s 2ms/step - loss: 0.1592 - accuracy: 0.9335 - val_loss: 0.6305 - val_accuracy: 0.7469\n",
      "Epoch 57/60\n",
      "50/50 [==============================] - 0s 2ms/step - loss: 0.1585 - accuracy: 0.9385 - val_loss: 0.6654 - val_accuracy: 0.7293\n",
      "Epoch 58/60\n",
      "50/50 [==============================] - 0s 2ms/step - loss: 0.1578 - accuracy: 0.9385 - val_loss: 0.7326 - val_accuracy: 0.6942\n",
      "Epoch 59/60\n"
     ]
    },
    {
     "name": "stdout",
     "output_type": "stream",
     "text": [
      "50/50 [==============================] - 0s 2ms/step - loss: 0.1554 - accuracy: 0.9404 - val_loss: 0.6963 - val_accuracy: 0.7243\n",
      "Epoch 60/60\n",
      "50/50 [==============================] - 0s 2ms/step - loss: 0.1524 - accuracy: 0.9416 - val_loss: 0.6659 - val_accuracy: 0.7368\n"
     ]
    }
   ],
   "source": [
    "num_epochs = 60\n",
    "history = model.fit(training_padded,training_labels_final, epochs=num_epochs, validation_data=(testing_padded,testing_labels_final))"
   ]
  },
  {
   "cell_type": "code",
   "execution_count": 9,
   "id": "8da7cb78",
   "metadata": {},
   "outputs": [
    {
     "data": {
      "image/png": "[encoded data removed]",
      "text/plain": [
       "<Figure size 432x288 with 1 Axes>"
      ]
     },
     "metadata": {
      "needs_background": "light"
     },
     "output_type": "display_data"
    },
    {
     "data": {
      "image/png": "[encoded data removed]",
      "text/plain": [
       "<Figure size 432x288 with 1 Axes>"
      ]
     },
     "metadata": {
      "needs_background": "light"
     },
     "output_type": "display_data"
    }
   ],
   "source": [
    "import matplotlib.pyplot as plt\n",
    "\n",
    "\n",
    "def plot_graphs(history, string):\n",
    "    plt.plot(history.history[string])\n",
    "    plt.plot(history.history['val_'+string])\n",
    "    plt.xlabel(\"Epochs\")\n",
    "    plt.ylabel(string)\n",
    "    plt.legend([string, 'val_'+string])\n",
    "    plt.show()\n",
    "  \n",
    "plot_graphs(history, \"accuracy\")\n",
    "plot_graphs(history, \"loss\")"
   ]
  },
  {
   "cell_type": "markdown",
   "id": "b51b54b1",
   "metadata": {},
   "source": [
    "# Get files for visualizing the network"
   ]
  },
  {
   "cell_type": "code",
   "execution_count": 10,
   "id": "96f6a28d",
   "metadata": {},
   "outputs": [
    {
     "name": "stdout",
     "output_type": "stream",
     "text": [
      "(500, 16)\n"
     ]
    }
   ],
   "source": [
    "e = model.layers[0]\n",
    "weights = e.get_weights()[0]\n",
    "print(weights.shape)"
   ]
  },
  {
   "cell_type": "code",
   "execution_count": 11,
   "id": "1ddb8c00",
   "metadata": {},
   "outputs": [],
   "source": [
    "import io\n",
    "\n",
    "# Create the reverse word index\n",
    "reverse_word_index = dict([(value, key) for (key, value) in word_index.items()])\n",
    "\n",
    "# Write out the embedding vectors and metadata\n",
    "out_v = io.open('vecs.tsv', 'w', encoding='utf-8')\n",
    "out_m = io.open('meta.tsv', 'w', encoding='utf-8')\n",
    "for word_num in range(1, vocab_size):\n",
    "    word = reverse_word_index[word_num]\n",
    "    embeddings = weights[word_num]\n",
    "    out_m.write(word + \"\\n\")\n",
    "    out_v.write('\\t'.join([str(x) for x in embeddings]) + \"\\n\")\n",
    "out_v.close()\n",
    "out_m.close()"
   ]
  },
  {
   "cell_type": "code",
   "execution_count": 12,
   "id": "770f8667",
   "metadata": {},
   "outputs": [],
   "source": [
    "# Download the files\n",
    "try:\n",
    "    from google.colab import files\n",
    "except ImportError:\n",
    "    pass\n",
    "else:\n",
    "    files.download('vecs.tsv')\n",
    "    files.download('meta.tsv')"
   ]
  },
  {
   "cell_type": "markdown",
   "id": "54713d1b",
   "metadata": {},
   "source": [
    "## Predicting Sentiment in New Reviews"
   ]
  },
  {
   "cell_type": "code",
   "execution_count": 13,
   "id": "f4617af7",
   "metadata": {
    "scrolled": true
   },
   "outputs": [
    {
     "name": "stdout",
     "output_type": "stream",
     "text": [
      "['I love this phone', 'I hate spaghetti', 'Everything was cold', 'Everything was hot exactly as I wanted', 'Everything was green', 'the host seated us immediately', 'they gave us free chocolate cake', 'not sure about the wilted flowers on the table', 'only works when I stand on tippy toes', 'does not work when I stand on my head']\n",
      "\n",
      "HOT OFF THE PRESS! HERE ARE SOME NEWLY MINTED, ABSOLUTELY GENUINE REVIEWS!\n",
      "\n",
      "I love this phone\n",
      "[0.9920689]\n",
      "\n",
      "\n",
      "I hate spaghetti\n",
      "[0.01339141]\n",
      "\n",
      "\n",
      "Everything was cold\n",
      "[0.6601336]\n",
      "\n",
      "\n",
      "Everything was hot exactly as I wanted\n",
      "[0.34162658]\n",
      "\n",
      "\n",
      "Everything was green\n",
      "[0.6601336]\n",
      "\n",
      "\n",
      "the host seated us immediately\n",
      "[0.8336044]\n",
      "\n",
      "\n",
      "they gave us free chocolate cake\n",
      "[0.9928486]\n",
      "\n",
      "\n",
      "not sure about the wilted flowers on the table\n",
      "[0.0074462]\n",
      "\n",
      "\n",
      "only works when I stand on tippy toes\n",
      "[0.9912633]\n",
      "\n",
      "\n",
      "does not work when I stand on my head\n",
      "[0.0038234]\n",
      "\n",
      "\n"
     ]
    }
   ],
   "source": [
    "# Use the model to predict a review   \n",
    "fake_reviews = ['I love this phone', 'I hate spaghetti', \n",
    "                'Everything was cold',\n",
    "                'Everything was hot exactly as I wanted', \n",
    "                'Everything was green', \n",
    "                'the host seated us immediately',\n",
    "                'they gave us free chocolate cake', \n",
    "                'not sure about the wilted flowers on the table',\n",
    "                'only works when I stand on tippy toes', \n",
    "                'does not work when I stand on my head']\n",
    "\n",
    "print(fake_reviews) \n",
    "\n",
    "# Create the sequences\n",
    "padding_type='post'\n",
    "sample_sequences = tokenizer.texts_to_sequences(fake_reviews)\n",
    "fakes_padded = pad_sequences(sample_sequences, padding=padding_type, maxlen=max_length)           \n",
    "\n",
    "print('\\nHOT OFF THE PRESS! HERE ARE SOME NEWLY MINTED, ABSOLUTELY GENUINE REVIEWS!\\n')              \n",
    "\n",
    "classes = model.predict(fakes_padded)\n",
    "\n",
    "# The closer the class is to 1, the more positive the review is deemed to be\n",
    "for x in range(len(fake_reviews)):\n",
    "    print(fake_reviews[x])\n",
    "    print(classes[x])\n",
    "    print('\\n')\n",
    "\n",
    "# Try adding reviews of your own\n",
    "# Add some negative words (such as \"not\") to the good reviews and see what happens\n",
    "# For example:\n",
    "# they gave us free chocolate cake and did not charge us"
   ]
  },
  {
   "cell_type": "code",
   "execution_count": null,
   "id": "9748d9a0",
   "metadata": {},
   "outputs": [],
   "source": []
  }
 ],
 "metadata": {
  "kernelspec": {
   "display_name": "Python 3",
   "language": "python",
   "name": "python3"
  },
  "language_info": {
   "codemirror_mode": {
    "name": "ipython",
    "version": 3
   },
   "file_extension": ".py",
   "mimetype": "text/x-python",
   "name": "python",
   "nbconvert_exporter": "python",
   "pygments_lexer": "ipython3",
   "version": "3.6.13"
  }
 },
 "nbformat": 4,
 "nbformat_minor": 5
}
