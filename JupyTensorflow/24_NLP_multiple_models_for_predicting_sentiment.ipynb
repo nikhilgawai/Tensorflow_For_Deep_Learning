{
 "cells": [
  {
   "cell_type": "markdown",
   "id": "2de86088",
   "metadata": {},
   "source": [
    "## Using LSTMs, CNNs, GRUs with a larger dataset"
   ]
  },
  {
   "cell_type": "code",
   "execution_count": 1,
   "id": "a28edf9e",
   "metadata": {},
   "outputs": [],
   "source": [
    "import numpy as np\n",
    "import tensorflow as tf \n",
    "import tensorflow_datasets as tfds"
   ]
  },
  {
   "cell_type": "markdown",
   "id": "e3f90642",
   "metadata": {},
   "source": [
    "### Get the dataset"
   ]
  },
  {
   "cell_type": "code",
   "execution_count": 2,
   "id": "f4a9e4a8",
   "metadata": {},
   "outputs": [
    {
     "name": "stdout",
     "output_type": "stream",
     "text": [
      "FeaturesDict({\n",
      "    'idx': tf.int32,\n",
      "    'label': ClassLabel(shape=(), dtype=tf.int64, num_classes=2),\n",
      "    'sentence': Text(shape=(), dtype=tf.string),\n",
      "})\n",
      "2\n",
      "['negative', 'positive']\n"
     ]
    }
   ],
   "source": [
    "dataset, info = tfds.load('glue/sst2',with_info=True)\n",
    "print(info.features)\n",
    "print(info.features['label'].num_classes)\n",
    "print(info.features['label'].names)"
   ]
  },
  {
   "cell_type": "code",
   "execution_count": 3,
   "id": "a60227c2",
   "metadata": {},
   "outputs": [
    {
     "data": {
      "text/plain": [
       "<PrefetchDataset shapes: {idx: (), label: (), sentence: ()}, types: {idx: tf.int32, label: tf.int64, sentence: tf.string}>"
      ]
     },
     "execution_count": 3,
     "metadata": {},
     "output_type": "execute_result"
    }
   ],
   "source": [
    "dataset_train, dataset_validation = dataset['train'], dataset['validation']\n",
    "dataset_train"
   ]
  },
  {
   "cell_type": "code",
   "execution_count": 4,
   "id": "42022a09",
   "metadata": {},
   "outputs": [
    {
     "name": "stdout",
     "output_type": "stream",
     "text": [
      "Review: tf.Tensor(b'for the uninitiated plays better on video with the sound ', shape=(), dtype=string)\n",
      "Label: 0 \n",
      "\n",
      "Review: tf.Tensor(b'like a giant commercial for universal studios , where much of the action takes place ', shape=(), dtype=string)\n",
      "Label: 0 \n",
      "\n"
     ]
    }
   ],
   "source": [
    "for example in dataset_train.take(2):\n",
    "    review, label = example['sentence'], example['label']\n",
    "    print('Review:', review)\n",
    "    print('Label: %d \\n'% label.numpy())\n",
    "    "
   ]
  },
  {
   "cell_type": "code",
   "execution_count": 5,
   "id": "7672092d",
   "metadata": {
    "scrolled": true
   },
   "outputs": [
    {
     "name": "stdout",
     "output_type": "stream",
     "text": [
      "\n",
      "No. of training Review is : 10000\n",
      "b'for the uninitiated plays better on video with the sound '\n",
      "0\n",
      "b'like a giant commercial for universal studios , where much of the action takes place '\n",
      "0\n",
      "\n",
      "No. of Validation Review is : 872\n",
      "b'a valueless kiddie paean to pro basketball underwritten by the nba . '\n",
      "0\n",
      "b\"featuring a dangerously seductive performance from the great daniel auteuil , `` sade '' covers the same period as kaufmann 's `` quills '' with more unsettlingly realistic results . \"\n",
      "1\n"
     ]
    }
   ],
   "source": [
    "training_reviews = []\n",
    "training_labels = []\n",
    "\n",
    "validation_reviews = []\n",
    "validation_labels = []\n",
    "\n",
    "for item in dataset_train.take(10000):\n",
    "    review, label = item['sentence'], item['label']\n",
    "    training_reviews.append(str(review.numpy()))\n",
    "    training_labels.append(label.numpy())\n",
    "    \n",
    "print('\\nNo. of training Review is :',len(training_reviews))\n",
    "\n",
    "for i in range(0,2):\n",
    "    print(training_reviews[i])\n",
    "    print(training_labels[i])\n",
    "    \n",
    "for item in dataset_validation.take(-1):\n",
    "    review, label = item['sentence'], item['label']\n",
    "    validation_reviews.append(str(review.numpy()))\n",
    "    validation_labels.append(label.numpy())\n",
    "    \n",
    "print('\\nNo. of Validation Review is :',len(validation_reviews))\n",
    "\n",
    "for i in range(0,2):\n",
    "    print(validation_reviews[i])\n",
    "    print(validation_labels[i])"
   ]
  },
  {
   "cell_type": "markdown",
   "id": "063f61a3",
   "metadata": {},
   "source": [
    "## Tokenize the words and sequence the sentences"
   ]
  },
  {
   "cell_type": "code",
   "execution_count": 6,
   "id": "c904c04b",
   "metadata": {},
   "outputs": [],
   "source": [
    "vocab_size = 4000\n",
    "embedding_dim = 16\n",
    "max_length = 50\n",
    "trunc_type = 'post'\n",
    "pad_type = 'post'\n",
    "oov_type = '<OOV>'\n",
    "\n",
    "from tensorflow.keras.preprocessing.text import Tokenizer\n",
    "from tensorflow.keras.preprocessing.sequence import pad_sequences\n",
    "\n",
    "tokenizer = Tokenizer(num_words=vocab_size, oov_token=oov_type)\n",
    "tokenizer.fit_on_texts(training_reviews)\n",
    "word_index = tokenizer.word_index"
   ]
  },
  {
   "cell_type": "markdown",
   "id": "d7f09c89",
   "metadata": {},
   "source": [
    "## Pad the sequences"
   ]
  },
  {
   "cell_type": "code",
   "execution_count": 7,
   "id": "80ca6d4f",
   "metadata": {},
   "outputs": [],
   "source": [
    "training_sequences = tokenizer.texts_to_sequences(training_reviews)\n",
    "training_padded = pad_sequences(training_sequences, maxlen=max_length,truncating=trunc_type,padding=pad_type)\n",
    "\n",
    "validation_sequences = tokenizer.texts_to_sequences(validation_reviews)\n",
    "validation_padded = pad_sequences(validation_sequences, maxlen=max_length,truncating=trunc_type,padding=pad_type)\n",
    "\n",
    "training_label_final = np.array(training_labels)\n",
    "validation_label_final = np.array(validation_labels)"
   ]
  },
  {
   "cell_type": "markdown",
   "id": "9fe068f4",
   "metadata": {},
   "source": [
    "## Create the model using an Embedding"
   ]
  },
  {
   "cell_type": "code",
   "execution_count": 8,
   "id": "920bc2f8",
   "metadata": {},
   "outputs": [
    {
     "name": "stdout",
     "output_type": "stream",
     "text": [
      "Model: \"sequential\"\n",
      "_________________________________________________________________\n",
      "Layer (type)                 Output Shape              Param #   \n",
      "=================================================================\n",
      "embedding (Embedding)        (None, 50, 16)            64000     \n",
      "_________________________________________________________________\n",
      "global_average_pooling1d (Gl (None, 16)                0         \n",
      "_________________________________________________________________\n",
      "dense (Dense)                (None, 1)                 17        \n",
      "=================================================================\n",
      "Total params: 64,017\n",
      "Trainable params: 64,017\n",
      "Non-trainable params: 0\n",
      "_________________________________________________________________\n"
     ]
    }
   ],
   "source": [
    "model = tf.keras.Sequential([\n",
    "    tf.keras.layers.Embedding(vocab_size, embedding_dim, input_length=max_length),\n",
    "    tf.keras.layers.GlobalAveragePooling1D(),\n",
    "    tf.keras.layers.Dense(1, activation='sigmoid')\n",
    "])\n",
    "\n",
    "model.compile(loss='binary_crossentropy',optimizer='adam',metrics=['accuracy'])\n",
    "model.summary()"
   ]
  },
  {
   "cell_type": "code",
   "execution_count": 9,
   "id": "b12d9f5d",
   "metadata": {},
   "outputs": [
    {
     "name": "stdout",
     "output_type": "stream",
     "text": [
      "Epoch 1/20\n",
      "313/313 [==============================] - 1s 3ms/step - loss: 0.6843 - accuracy: 0.5503 - val_loss: 0.6876 - val_accuracy: 0.5161\n",
      "Epoch 2/20\n",
      "313/313 [==============================] - 1s 3ms/step - loss: 0.6721 - accuracy: 0.5734 - val_loss: 0.6721 - val_accuracy: 0.5929\n",
      "Epoch 3/20\n",
      "313/313 [==============================] - 1s 2ms/step - loss: 0.6515 - accuracy: 0.6211 - val_loss: 0.6456 - val_accuracy: 0.6468\n",
      "Epoch 4/20\n",
      "313/313 [==============================] - 1s 2ms/step - loss: 0.6221 - accuracy: 0.6739 - val_loss: 0.6139 - val_accuracy: 0.6904\n",
      "Epoch 5/20\n",
      "313/313 [==============================] - 1s 2ms/step - loss: 0.5886 - accuracy: 0.7104 - val_loss: 0.5819 - val_accuracy: 0.7144\n",
      "Epoch 6/20\n",
      "313/313 [==============================] - 1s 2ms/step - loss: 0.5543 - accuracy: 0.7451 - val_loss: 0.5546 - val_accuracy: 0.7362\n",
      "Epoch 7/20\n",
      "313/313 [==============================] - 1s 2ms/step - loss: 0.5224 - accuracy: 0.7696 - val_loss: 0.5324 - val_accuracy: 0.7431\n",
      "Epoch 8/20\n",
      "313/313 [==============================] - 1s 2ms/step - loss: 0.4937 - accuracy: 0.7913 - val_loss: 0.5152 - val_accuracy: 0.7557\n",
      "Epoch 9/20\n",
      "313/313 [==============================] - 1s 2ms/step - loss: 0.4671 - accuracy: 0.8114 - val_loss: 0.5047 - val_accuracy: 0.7466\n",
      "Epoch 10/20\n",
      "313/313 [==============================] - 1s 2ms/step - loss: 0.4438 - accuracy: 0.8196 - val_loss: 0.4931 - val_accuracy: 0.7683\n",
      "Epoch 11/20\n",
      "313/313 [==============================] - 1s 2ms/step - loss: 0.4229 - accuracy: 0.8334 - val_loss: 0.4870 - val_accuracy: 0.7569\n",
      "Epoch 12/20\n",
      "313/313 [==============================] - 1s 2ms/step - loss: 0.4045 - accuracy: 0.8373 - val_loss: 0.4842 - val_accuracy: 0.7626\n",
      "Epoch 13/20\n",
      "313/313 [==============================] - 1s 2ms/step - loss: 0.3882 - accuracy: 0.8443 - val_loss: 0.4845 - val_accuracy: 0.7649\n",
      "Epoch 14/20\n",
      "313/313 [==============================] - 1s 2ms/step - loss: 0.3730 - accuracy: 0.8486 - val_loss: 0.4864 - val_accuracy: 0.7638\n",
      "Epoch 15/20\n",
      "313/313 [==============================] - 1s 2ms/step - loss: 0.3594 - accuracy: 0.8514 - val_loss: 0.4872 - val_accuracy: 0.7752\n",
      "Epoch 16/20\n",
      "313/313 [==============================] - 1s 2ms/step - loss: 0.3469 - accuracy: 0.8559 - val_loss: 0.4939 - val_accuracy: 0.7695\n",
      "Epoch 17/20\n",
      "313/313 [==============================] - 1s 2ms/step - loss: 0.3360 - accuracy: 0.8592 - val_loss: 0.4995 - val_accuracy: 0.7706\n",
      "Epoch 18/20\n",
      "313/313 [==============================] - 1s 2ms/step - loss: 0.3255 - accuracy: 0.8626 - val_loss: 0.5056 - val_accuracy: 0.7649\n",
      "Epoch 19/20\n",
      "313/313 [==============================] - 1s 2ms/step - loss: 0.3156 - accuracy: 0.8696 - val_loss: 0.5127 - val_accuracy: 0.7661\n",
      "Epoch 20/20\n",
      "313/313 [==============================] - 1s 2ms/step - loss: 0.3065 - accuracy: 0.8693 - val_loss: 0.5227 - val_accuracy: 0.7626\n"
     ]
    }
   ],
   "source": [
    "num_epoch=20\n",
    "history = model.fit(training_padded, training_label_final, epochs=num_epoch, \n",
    "          validation_data=(validation_padded,validation_label_final))"
   ]
  },
  {
   "cell_type": "markdown",
   "id": "2bc552ee",
   "metadata": {},
   "source": [
    "## Plot the accurracy and loss"
   ]
  },
  {
   "cell_type": "code",
   "execution_count": 12,
   "id": "a1ff59db",
   "metadata": {},
   "outputs": [
    {
     "data": {
      "image/png": "[encoded data removed]",
      "text/plain": [
       "<Figure size 432x288 with 1 Axes>"
      ]
     },
     "metadata": {
      "needs_background": "light"
     },
     "output_type": "display_data"
    },
    {
     "data": {
      "image/png": "[encoded data removed]",
      "text/plain": [
       "<Figure size 432x288 with 1 Axes>"
      ]
     },
     "metadata": {
      "needs_background": "light"
     },
     "output_type": "display_data"
    }
   ],
   "source": [
    "import matplotlib.pyplot as plt\n",
    "\n",
    "\n",
    "def plot_graphs(history, string):\n",
    "    plt.plot(history.history[string])\n",
    "    plt.plot(history.history['val_'+string])\n",
    "    plt.xlabel(\"Epochs\")\n",
    "    plt.ylabel(string)\n",
    "    plt.legend([string, 'val_'+string])\n",
    "    plt.show()\n",
    "  \n",
    "plot_graphs(history, \"accuracy\")\n",
    "plot_graphs(history, \"loss\")"
   ]
  },
  {
   "cell_type": "markdown",
   "id": "0d2801b7",
   "metadata": {},
   "source": [
    "## Write a function to predict the sentiment of reviews"
   ]
  },
  {
   "cell_type": "code",
   "execution_count": 15,
   "id": "581c2dc4",
   "metadata": {},
   "outputs": [],
   "source": [
    "review1 = \"\"\"I loved this movie\"\"\"\n",
    "\n",
    "review2 = \"\"\"that was the worst movie I've ever seen\"\"\"\n",
    "\n",
    "review3 = \"\"\"too much violence even for a Bond film\"\"\"\n",
    "\n",
    "review4 = \"\"\"a captivating recounting of a cherished myth\"\"\"\n",
    "\n",
    "new_reviews = [review1, review2, review3, review4]"
   ]
  },
  {
   "cell_type": "code",
   "execution_count": 17,
   "id": "ab6e9204",
   "metadata": {},
   "outputs": [
    {
     "name": "stdout",
     "output_type": "stream",
     "text": [
      "I loved this movie\n",
      "[0.42377287]\n",
      "\n",
      "\n",
      "that was the worst movie I've ever seen\n",
      "[0.12851411]\n",
      "\n",
      "\n",
      "too much violence even for a Bond film\n",
      "[0.03461561]\n",
      "\n",
      "\n",
      "a captivating recounting of a cherished myth\n",
      "[0.6371176]\n",
      "\n",
      "\n"
     ]
    }
   ],
   "source": [
    "# Define a function to prepare the new reviews for use with a model\n",
    "# and then use the model to predict the sentiment of the new reviews           \n",
    "\n",
    "def predict_review(model, reviews):\n",
    "  # Create the sequences\n",
    "    padding_type='post'\n",
    "    sample_sequences = tokenizer.texts_to_sequences(reviews)\n",
    "    reviews_padded = pad_sequences(sample_sequences, padding=padding_type, \n",
    "                                 maxlen=max_length) \n",
    "    classes = model.predict(reviews_padded)\n",
    "    for x in range(len(reviews_padded)):\n",
    "        print(reviews[x])\n",
    "        print(classes[x])\n",
    "        print('\\n')\n",
    "\n",
    "predict_review(model, new_reviews)\n"
   ]
  },
  {
   "cell_type": "markdown",
   "id": "2fc8554d",
   "metadata": {},
   "source": [
    "## Define a function to train and show the results of models with different layers"
   ]
  },
  {
   "cell_type": "code",
   "execution_count": 22,
   "id": "450098a2",
   "metadata": {},
   "outputs": [],
   "source": [
    "def fit_model_and_show_results (model, reviews):\n",
    "    model.summary()\n",
    "    history = model.fit(training_padded, training_label_final, epochs=num_epochs, \n",
    "                      validation_data=(validation_padded, validation_label_final))\n",
    "    plot_graphs(history, \"accuracy\")\n",
    "    plot_graphs(history, \"loss\")\n",
    "    predict_review(model, reviews)"
   ]
  },
  {
   "cell_type": "markdown",
   "id": "a08fa527",
   "metadata": {},
   "source": [
    "# Use a CNN"
   ]
  },
  {
   "cell_type": "code",
   "execution_count": 23,
   "id": "cb4f3daf",
   "metadata": {},
   "outputs": [
    {
     "name": "stdout",
     "output_type": "stream",
     "text": [
      "Model: \"sequential_3\"\n",
      "_________________________________________________________________\n",
      "Layer (type)                 Output Shape              Param #   \n",
      "=================================================================\n",
      "embedding_3 (Embedding)      (None, 50, 16)            64000     \n",
      "_________________________________________________________________\n",
      "conv1d_2 (Conv1D)            (None, 46, 16)            1296      \n",
      "_________________________________________________________________\n",
      "global_max_pooling1d_2 (Glob (None, 16)                0         \n",
      "_________________________________________________________________\n",
      "dense_3 (Dense)              (None, 1)                 17        \n",
      "=================================================================\n",
      "Total params: 65,313\n",
      "Trainable params: 65,313\n",
      "Non-trainable params: 0\n",
      "_________________________________________________________________\n",
      "Epoch 1/30\n",
      "313/313 [==============================] - 2s 4ms/step - loss: 0.6871 - accuracy: 0.5596 - val_loss: 0.6944 - val_accuracy: 0.5092\n",
      "Epoch 2/30\n",
      "313/313 [==============================] - 1s 3ms/step - loss: 0.6819 - accuracy: 0.5590 - val_loss: 0.6942 - val_accuracy: 0.5092\n",
      "Epoch 3/30\n",
      "313/313 [==============================] - 1s 3ms/step - loss: 0.6780 - accuracy: 0.5590 - val_loss: 0.6914 - val_accuracy: 0.5092\n",
      "Epoch 4/30\n",
      "313/313 [==============================] - 1s 3ms/step - loss: 0.6729 - accuracy: 0.5613 - val_loss: 0.6875 - val_accuracy: 0.5206\n",
      "Epoch 5/30\n",
      "313/313 [==============================] - 1s 3ms/step - loss: 0.6654 - accuracy: 0.5829 - val_loss: 0.6804 - val_accuracy: 0.5470\n",
      "Epoch 6/30\n",
      "313/313 [==============================] - 1s 3ms/step - loss: 0.6543 - accuracy: 0.6152 - val_loss: 0.6703 - val_accuracy: 0.5940\n",
      "Epoch 7/30\n",
      "313/313 [==============================] - 1s 3ms/step - loss: 0.6385 - accuracy: 0.6676 - val_loss: 0.6568 - val_accuracy: 0.6525\n",
      "Epoch 8/30\n",
      "313/313 [==============================] - 1s 3ms/step - loss: 0.6175 - accuracy: 0.7117 - val_loss: 0.6400 - val_accuracy: 0.6823\n",
      "Epoch 9/30\n",
      "313/313 [==============================] - 1s 3ms/step - loss: 0.5917 - accuracy: 0.7488 - val_loss: 0.6210 - val_accuracy: 0.6984\n",
      "Epoch 10/30\n",
      "313/313 [==============================] - 1s 2ms/step - loss: 0.5622 - accuracy: 0.7696 - val_loss: 0.6018 - val_accuracy: 0.7018\n",
      "Epoch 11/30\n",
      "313/313 [==============================] - 1s 3ms/step - loss: 0.5304 - accuracy: 0.7969 - val_loss: 0.5820 - val_accuracy: 0.7179\n",
      "Epoch 12/30\n",
      "313/313 [==============================] - 1s 2ms/step - loss: 0.4985 - accuracy: 0.8128 - val_loss: 0.5624 - val_accuracy: 0.7294\n",
      "Epoch 13/30\n",
      "313/313 [==============================] - 1s 3ms/step - loss: 0.4677 - accuracy: 0.8235 - val_loss: 0.5457 - val_accuracy: 0.7420\n",
      "Epoch 14/30\n",
      "313/313 [==============================] - 1s 2ms/step - loss: 0.4391 - accuracy: 0.8352 - val_loss: 0.5306 - val_accuracy: 0.7477\n",
      "Epoch 15/30\n",
      "313/313 [==============================] - 1s 3ms/step - loss: 0.4130 - accuracy: 0.8440 - val_loss: 0.5181 - val_accuracy: 0.7557\n",
      "Epoch 16/30\n",
      "313/313 [==============================] - 1s 3ms/step - loss: 0.3896 - accuracy: 0.8506 - val_loss: 0.5092 - val_accuracy: 0.7649\n",
      "Epoch 17/30\n",
      "313/313 [==============================] - 1s 3ms/step - loss: 0.3688 - accuracy: 0.8578 - val_loss: 0.5000 - val_accuracy: 0.7649\n",
      "Epoch 18/30\n",
      "313/313 [==============================] - 1s 3ms/step - loss: 0.3502 - accuracy: 0.8635 - val_loss: 0.4934 - val_accuracy: 0.7649\n",
      "Epoch 19/30\n",
      "313/313 [==============================] - 1s 3ms/step - loss: 0.3337 - accuracy: 0.8682 - val_loss: 0.4897 - val_accuracy: 0.7638\n",
      "Epoch 20/30\n",
      "313/313 [==============================] - 1s 2ms/step - loss: 0.3187 - accuracy: 0.8733 - val_loss: 0.4878 - val_accuracy: 0.7741\n",
      "Epoch 21/30\n",
      "313/313 [==============================] - 1s 2ms/step - loss: 0.3054 - accuracy: 0.8774 - val_loss: 0.4859 - val_accuracy: 0.7752\n",
      "Epoch 22/30\n",
      "313/313 [==============================] - 1s 2ms/step - loss: 0.2932 - accuracy: 0.8806 - val_loss: 0.4870 - val_accuracy: 0.7810\n",
      "Epoch 23/30\n",
      "313/313 [==============================] - 1s 3ms/step - loss: 0.2821 - accuracy: 0.8859 - val_loss: 0.4890 - val_accuracy: 0.7844\n",
      "Epoch 24/30\n",
      "313/313 [==============================] - 1s 3ms/step - loss: 0.2719 - accuracy: 0.8882 - val_loss: 0.4904 - val_accuracy: 0.7821\n",
      "Epoch 25/30\n",
      "313/313 [==============================] - 1s 3ms/step - loss: 0.2626 - accuracy: 0.8916 - val_loss: 0.4938 - val_accuracy: 0.7787\n",
      "Epoch 26/30\n",
      "313/313 [==============================] - 1s 2ms/step - loss: 0.2539 - accuracy: 0.8937 - val_loss: 0.4975 - val_accuracy: 0.7752\n",
      "Epoch 27/30\n",
      "313/313 [==============================] - 1s 3ms/step - loss: 0.2458 - accuracy: 0.8966 - val_loss: 0.5020 - val_accuracy: 0.7798\n",
      "Epoch 28/30\n",
      "313/313 [==============================] - 1s 3ms/step - loss: 0.2383 - accuracy: 0.9003 - val_loss: 0.5077 - val_accuracy: 0.7787\n",
      "Epoch 29/30\n",
      "313/313 [==============================] - 1s 3ms/step - loss: 0.2313 - accuracy: 0.9023 - val_loss: 0.5143 - val_accuracy: 0.7856\n",
      "Epoch 30/30\n",
      "313/313 [==============================] - 1s 2ms/step - loss: 0.2248 - accuracy: 0.9046 - val_loss: 0.5201 - val_accuracy: 0.7764\n"
     ]
    },
    {
     "data": {
      "image/png": "[encoded data removed]",
      "text/plain": [
       "<Figure size 432x288 with 1 Axes>"
      ]
     },
     "metadata": {
      "needs_background": "light"
     },
     "output_type": "display_data"
    },
    {
     "data": {
      "image/png": "[encoded data removed]",
      "text/plain": [
       "<Figure size 432x288 with 1 Axes>"
      ]
     },
     "metadata": {
      "needs_background": "light"
     },
     "output_type": "display_data"
    },
    {
     "name": "stdout",
     "output_type": "stream",
     "text": [
      "I loved this movie\n",
      "[0.8591789]\n",
      "\n",
      "\n",
      "that was the worst movie I've ever seen\n",
      "[0.02352479]\n",
      "\n",
      "\n",
      "too much violence even for a Bond film\n",
      "[0.00525296]\n",
      "\n",
      "\n",
      "a captivating recounting of a cherished myth\n",
      "[0.7323147]\n",
      "\n",
      "\n"
     ]
    }
   ],
   "source": [
    "num_epochs = 30\n",
    "\n",
    "model_cnn = tf.keras.Sequential([\n",
    "    tf.keras.layers.Embedding(vocab_size, embedding_dim, input_length=max_length),\n",
    "    tf.keras.layers.Conv1D(16, 5, activation='relu'),\n",
    "    tf.keras.layers.GlobalMaxPooling1D(),\n",
    "    tf.keras.layers.Dense(1, activation='sigmoid')\n",
    "])\n",
    "\n",
    "# Default learning rate for the Adam optimizer is 0.001\n",
    "# Let's slow down the learning rate by 10.\n",
    "learning_rate = 0.0001\n",
    "model_cnn.compile(loss='binary_crossentropy',\n",
    "                  optimizer=tf.keras.optimizers.Adam(learning_rate), \n",
    "                  metrics=['accuracy'])\n",
    "\n",
    "fit_model_and_show_results(model_cnn, new_reviews)"
   ]
  },
  {
   "cell_type": "markdown",
   "id": "ff3fcccc",
   "metadata": {},
   "source": [
    "# Use a GRU"
   ]
  },
  {
   "cell_type": "markdown",
   "id": "57e45788",
   "metadata": {},
   "source": [
    "\n",
    "### The Gated Recurrent Unit (GRU) is a type of Recurrent Neural Network (RNN) that, in certain cases, has advantages over long short term memory (LSTM). GRU uses less memory and is faster than LSTM, however, LSTM is more accurate when using datasets with longer sequences."
   ]
  },
  {
   "cell_type": "code",
   "execution_count": 24,
   "id": "a8cb7932",
   "metadata": {},
   "outputs": [
    {
     "name": "stdout",
     "output_type": "stream",
     "text": [
      "Model: \"sequential_4\"\n",
      "_________________________________________________________________\n",
      "Layer (type)                 Output Shape              Param #   \n",
      "=================================================================\n",
      "embedding_4 (Embedding)      (None, 50, 16)            64000     \n",
      "_________________________________________________________________\n",
      "bidirectional (Bidirectional (None, 64)                9600      \n",
      "_________________________________________________________________\n",
      "dense_4 (Dense)              (None, 1)                 65        \n",
      "=================================================================\n",
      "Total params: 73,665\n",
      "Trainable params: 73,665\n",
      "Non-trainable params: 0\n",
      "_________________________________________________________________\n",
      "Epoch 1/30\n",
      "313/313 [==============================] - 11s 24ms/step - loss: 0.6905 - accuracy: 0.5562 - val_loss: 0.6936 - val_accuracy: 0.5092\n",
      "Epoch 2/30\n",
      "313/313 [==============================] - 7s 22ms/step - loss: 0.6871 - accuracy: 0.5590 - val_loss: 0.6950 - val_accuracy: 0.5092\n",
      "Epoch 3/30\n",
      "313/313 [==============================] - 7s 22ms/step - loss: 0.6856 - accuracy: 0.5590 - val_loss: 0.6961 - val_accuracy: 0.5092\n",
      "Epoch 4/30\n",
      "313/313 [==============================] - 7s 22ms/step - loss: 0.6848 - accuracy: 0.5590 - val_loss: 0.6960 - val_accuracy: 0.5092\n",
      "Epoch 5/30\n",
      "313/313 [==============================] - 8s 25ms/step - loss: 0.6836 - accuracy: 0.5590 - val_loss: 0.6957 - val_accuracy: 0.5092\n",
      "Epoch 6/30\n",
      "313/313 [==============================] - 9s 28ms/step - loss: 0.6820 - accuracy: 0.5590 - val_loss: 0.6947 - val_accuracy: 0.5092\n",
      "Epoch 7/30\n",
      "313/313 [==============================] - 9s 28ms/step - loss: 0.6795 - accuracy: 0.5590 - val_loss: 0.6927 - val_accuracy: 0.5092\n",
      "Epoch 8/30\n",
      "313/313 [==============================] - 8s 24ms/step - loss: 0.6756 - accuracy: 0.5590 - val_loss: 0.6889 - val_accuracy: 0.5092\n",
      "Epoch 9/30\n",
      "313/313 [==============================] - 8s 25ms/step - loss: 0.6686 - accuracy: 0.5608 - val_loss: 0.6822 - val_accuracy: 0.5172\n",
      "Epoch 10/30\n",
      "313/313 [==============================] - 8s 26ms/step - loss: 0.6555 - accuracy: 0.5819 - val_loss: 0.6661 - val_accuracy: 0.5849\n",
      "Epoch 11/30\n",
      "313/313 [==============================] - 7s 22ms/step - loss: 0.6298 - accuracy: 0.6239 - val_loss: 0.6266 - val_accuracy: 0.6422\n",
      "Epoch 12/30\n",
      "313/313 [==============================] - 7s 22ms/step - loss: 0.5955 - accuracy: 0.6687 - val_loss: 0.5952 - val_accuracy: 0.6869\n",
      "Epoch 13/30\n",
      "313/313 [==============================] - 8s 25ms/step - loss: 0.5737 - accuracy: 0.6956 - val_loss: 0.5835 - val_accuracy: 0.6972\n",
      "Epoch 14/30\n",
      "313/313 [==============================] - 7s 23ms/step - loss: 0.5556 - accuracy: 0.7120 - val_loss: 0.5729 - val_accuracy: 0.6927\n",
      "Epoch 15/30\n",
      "313/313 [==============================] - 7s 24ms/step - loss: 0.5382 - accuracy: 0.7278 - val_loss: 0.5686 - val_accuracy: 0.7053\n",
      "Epoch 16/30\n",
      "313/313 [==============================] - 7s 23ms/step - loss: 0.5206 - accuracy: 0.7469 - val_loss: 0.5702 - val_accuracy: 0.6950\n",
      "Epoch 17/30\n",
      "313/313 [==============================] - 7s 23ms/step - loss: 0.5026 - accuracy: 0.7589 - val_loss: 0.5604 - val_accuracy: 0.7167\n",
      "Epoch 18/30\n",
      "313/313 [==============================] - 7s 24ms/step - loss: 0.4872 - accuracy: 0.7728 - val_loss: 0.5594 - val_accuracy: 0.7122\n",
      "Epoch 19/30\n",
      "313/313 [==============================] - 8s 25ms/step - loss: 0.4741 - accuracy: 0.7791 - val_loss: 0.5607 - val_accuracy: 0.7236\n",
      "Epoch 20/30\n",
      "313/313 [==============================] - 7s 23ms/step - loss: 0.4622 - accuracy: 0.7907 - val_loss: 0.5658 - val_accuracy: 0.7190\n",
      "Epoch 21/30\n",
      "313/313 [==============================] - 7s 23ms/step - loss: 0.4506 - accuracy: 0.7985 - val_loss: 0.5578 - val_accuracy: 0.7374\n",
      "Epoch 22/30\n",
      "313/313 [==============================] - 7s 23ms/step - loss: 0.4402 - accuracy: 0.8064 - val_loss: 0.5642 - val_accuracy: 0.7466\n",
      "Epoch 23/30\n",
      "313/313 [==============================] - 7s 22ms/step - loss: 0.4311 - accuracy: 0.8097 - val_loss: 0.5655 - val_accuracy: 0.7477\n",
      "Epoch 24/30\n",
      "313/313 [==============================] - 9s 29ms/step - loss: 0.4228 - accuracy: 0.8163 - val_loss: 0.5693 - val_accuracy: 0.7477\n",
      "Epoch 25/30\n",
      "313/313 [==============================] - 9s 30ms/step - loss: 0.4124 - accuracy: 0.8221 - val_loss: 0.5689 - val_accuracy: 0.7557\n",
      "Epoch 26/30\n",
      "313/313 [==============================] - 10s 32ms/step - loss: 0.4111 - accuracy: 0.8201 - val_loss: 0.5680 - val_accuracy: 0.7534\n",
      "Epoch 27/30\n",
      "313/313 [==============================] - 11s 34ms/step - loss: 0.3995 - accuracy: 0.8258 - val_loss: 0.5688 - val_accuracy: 0.7523\n",
      "Epoch 28/30\n",
      "313/313 [==============================] - 7s 24ms/step - loss: 0.3925 - accuracy: 0.8308 - val_loss: 0.5773 - val_accuracy: 0.7592\n",
      "Epoch 29/30\n",
      "313/313 [==============================] - 8s 25ms/step - loss: 0.3858 - accuracy: 0.8328 - val_loss: 0.5749 - val_accuracy: 0.7557\n",
      "Epoch 30/30\n",
      "313/313 [==============================] - 7s 23ms/step - loss: 0.3819 - accuracy: 0.8362 - val_loss: 0.5813 - val_accuracy: 0.7569\n"
     ]
    },
    {
     "data": {
      "image/png": "[encoded data removed]",
      "text/plain": [
       "<Figure size 432x288 with 1 Axes>"
      ]
     },
     "metadata": {
      "needs_background": "light"
     },
     "output_type": "display_data"
    },
    {
     "data": {
      "image/png": "[encoded data removed]",
      "text/plain": [
       "<Figure size 432x288 with 1 Axes>"
      ]
     },
     "metadata": {
      "needs_background": "light"
     },
     "output_type": "display_data"
    },
    {
     "name": "stdout",
     "output_type": "stream",
     "text": [
      "I loved this movie\n",
      "[0.38676003]\n",
      "\n",
      "\n",
      "that was the worst movie I've ever seen\n",
      "[0.18876237]\n",
      "\n",
      "\n",
      "too much violence even for a Bond film\n",
      "[0.1434528]\n",
      "\n",
      "\n",
      "a captivating recounting of a cherished myth\n",
      "[0.49320048]\n",
      "\n",
      "\n"
     ]
    }
   ],
   "source": [
    "num_epochs = 30\n",
    "\n",
    "model_gru = tf.keras.Sequential([\n",
    "    tf.keras.layers.Embedding(vocab_size, embedding_dim, input_length=max_length),\n",
    "    tf.keras.layers.Bidirectional(tf.keras.layers.GRU(32)),\n",
    "    tf.keras.layers.Dense(1, activation='sigmoid')\n",
    "])\n",
    "\n",
    "learning_rate = 0.00003 # slower than the default learning rate\n",
    "model_gru.compile(loss='binary_crossentropy',\n",
    "                  optimizer=tf.keras.optimizers.Adam(learning_rate),\n",
    "                  metrics=['accuracy'])\n",
    "\n",
    "fit_model_and_show_results(model_gru, new_reviews)"
   ]
  },
  {
   "cell_type": "markdown",
   "id": "f62b4a94",
   "metadata": {},
   "source": [
    "## Add a bidirectional LSTM"
   ]
  },
  {
   "cell_type": "code",
   "execution_count": 25,
   "id": "2cdfce22",
   "metadata": {},
   "outputs": [
    {
     "name": "stdout",
     "output_type": "stream",
     "text": [
      "Model: \"sequential_5\"\n",
      "_________________________________________________________________\n",
      "Layer (type)                 Output Shape              Param #   \n",
      "=================================================================\n",
      "embedding_5 (Embedding)      (None, 50, 16)            64000     \n",
      "_________________________________________________________________\n",
      "bidirectional_1 (Bidirection (None, 32)                4224      \n",
      "_________________________________________________________________\n",
      "dense_5 (Dense)              (None, 1)                 33        \n",
      "=================================================================\n",
      "Total params: 68,257\n",
      "Trainable params: 68,257\n",
      "Non-trainable params: 0\n",
      "_________________________________________________________________\n",
      "Epoch 1/30\n",
      "313/313 [==============================] - 10s 24ms/step - loss: 0.6905 - accuracy: 0.5589 - val_loss: 0.6931 - val_accuracy: 0.5092\n",
      "Epoch 2/30\n",
      "313/313 [==============================] - 6s 19ms/step - loss: 0.6873 - accuracy: 0.5590 - val_loss: 0.6944 - val_accuracy: 0.5092\n",
      "Epoch 3/30\n",
      "313/313 [==============================] - 6s 19ms/step - loss: 0.6856 - accuracy: 0.5590 - val_loss: 0.6956 - val_accuracy: 0.5092\n",
      "Epoch 4/30\n",
      "313/313 [==============================] - 6s 20ms/step - loss: 0.6846 - accuracy: 0.5590 - val_loss: 0.6957 - val_accuracy: 0.5092\n",
      "Epoch 5/30\n",
      "313/313 [==============================] - 6s 20ms/step - loss: 0.6836 - accuracy: 0.5590 - val_loss: 0.6953 - val_accuracy: 0.5092\n",
      "Epoch 6/30\n",
      "313/313 [==============================] - 6s 20ms/step - loss: 0.6822 - accuracy: 0.5590 - val_loss: 0.6940 - val_accuracy: 0.5092\n",
      "Epoch 7/30\n",
      "313/313 [==============================] - 7s 21ms/step - loss: 0.6799 - accuracy: 0.5590 - val_loss: 0.6921 - val_accuracy: 0.5092\n",
      "Epoch 8/30\n",
      "313/313 [==============================] - 6s 19ms/step - loss: 0.6763 - accuracy: 0.5590 - val_loss: 0.6884 - val_accuracy: 0.5092\n",
      "Epoch 9/30\n",
      "313/313 [==============================] - 7s 21ms/step - loss: 0.6700 - accuracy: 0.5589 - val_loss: 0.6825 - val_accuracy: 0.5103\n",
      "Epoch 10/30\n",
      "313/313 [==============================] - 7s 23ms/step - loss: 0.6617 - accuracy: 0.5640 - val_loss: 0.6747 - val_accuracy: 0.5505\n",
      "Epoch 11/30\n",
      "313/313 [==============================] - 6s 21ms/step - loss: 0.6521 - accuracy: 0.5851 - val_loss: 0.6650 - val_accuracy: 0.5998\n",
      "Epoch 12/30\n",
      "313/313 [==============================] - 7s 21ms/step - loss: 0.6411 - accuracy: 0.6079 - val_loss: 0.6535 - val_accuracy: 0.6388\n",
      "Epoch 13/30\n",
      "313/313 [==============================] - 7s 22ms/step - loss: 0.6277 - accuracy: 0.6278 - val_loss: 0.6346 - val_accuracy: 0.6537\n",
      "Epoch 14/30\n",
      "313/313 [==============================] - 7s 21ms/step - loss: 0.6131 - accuracy: 0.6441 - val_loss: 0.6175 - val_accuracy: 0.6800\n",
      "Epoch 15/30\n",
      "313/313 [==============================] - 7s 22ms/step - loss: 0.5984 - accuracy: 0.6682 - val_loss: 0.5945 - val_accuracy: 0.6858\n",
      "Epoch 16/30\n",
      "313/313 [==============================] - 6s 21ms/step - loss: 0.5834 - accuracy: 0.6886 - val_loss: 0.5773 - val_accuracy: 0.7064\n",
      "Epoch 17/30\n",
      "313/313 [==============================] - 7s 22ms/step - loss: 0.5666 - accuracy: 0.7082 - val_loss: 0.5639 - val_accuracy: 0.7076\n",
      "Epoch 18/30\n",
      "313/313 [==============================] - 7s 23ms/step - loss: 0.5511 - accuracy: 0.7286 - val_loss: 0.5549 - val_accuracy: 0.7167\n",
      "Epoch 19/30\n",
      "313/313 [==============================] - 7s 21ms/step - loss: 0.5392 - accuracy: 0.7412 - val_loss: 0.5502 - val_accuracy: 0.7351\n",
      "Epoch 20/30\n",
      "313/313 [==============================] - 7s 22ms/step - loss: 0.5280 - accuracy: 0.7582 - val_loss: 0.5427 - val_accuracy: 0.7259\n",
      "Epoch 21/30\n",
      "313/313 [==============================] - 6s 19ms/step - loss: 0.5194 - accuracy: 0.7580 - val_loss: 0.5400 - val_accuracy: 0.7362\n",
      "Epoch 22/30\n",
      "313/313 [==============================] - 10s 33ms/step - loss: 0.5090 - accuracy: 0.7700 - val_loss: 0.5358 - val_accuracy: 0.7305\n",
      "Epoch 23/30\n",
      "313/313 [==============================] - 7s 23ms/step - loss: 0.5002 - accuracy: 0.7736 - val_loss: 0.5331 - val_accuracy: 0.7294\n",
      "Epoch 24/30\n",
      "313/313 [==============================] - 9s 30ms/step - loss: 0.4919 - accuracy: 0.7803 - val_loss: 0.5293 - val_accuracy: 0.7374\n",
      "Epoch 25/30\n",
      "313/313 [==============================] - 9s 27ms/step - loss: 0.4836 - accuracy: 0.7896 - val_loss: 0.5265 - val_accuracy: 0.7362\n",
      "Epoch 26/30\n",
      "313/313 [==============================] - 8s 26ms/step - loss: 0.4757 - accuracy: 0.7958 - val_loss: 0.5248 - val_accuracy: 0.7385\n",
      "Epoch 27/30\n",
      "313/313 [==============================] - 7s 24ms/step - loss: 0.4695 - accuracy: 0.7969 - val_loss: 0.5217 - val_accuracy: 0.7420\n",
      "Epoch 28/30\n",
      "313/313 [==============================] - 7s 21ms/step - loss: 0.4623 - accuracy: 0.8002 - val_loss: 0.5196 - val_accuracy: 0.7443\n",
      "Epoch 29/30\n",
      "313/313 [==============================] - 9s 27ms/step - loss: 0.4556 - accuracy: 0.8072 - val_loss: 0.5188 - val_accuracy: 0.7477\n",
      "Epoch 30/30\n",
      "313/313 [==============================] - 7s 21ms/step - loss: 0.4493 - accuracy: 0.8099 - val_loss: 0.5176 - val_accuracy: 0.7500\n"
     ]
    },
    {
     "data": {
      "image/png": "[encoded data removed]",
      "text/plain": [
       "<Figure size 432x288 with 1 Axes>"
      ]
     },
     "metadata": {
      "needs_background": "light"
     },
     "output_type": "display_data"
    },
    {
     "data": {
      "image/png": "[encoded data removed]",
      "text/plain": [
       "<Figure size 432x288 with 1 Axes>"
      ]
     },
     "metadata": {
      "needs_background": "light"
     },
     "output_type": "display_data"
    },
    {
     "name": "stdout",
     "output_type": "stream",
     "text": [
      "I loved this movie\n",
      "[0.451805]\n",
      "\n",
      "\n",
      "that was the worst movie I've ever seen\n",
      "[0.28201663]\n",
      "\n",
      "\n",
      "too much violence even for a Bond film\n",
      "[0.37952876]\n",
      "\n",
      "\n",
      "a captivating recounting of a cherished myth\n",
      "[0.47603908]\n",
      "\n",
      "\n"
     ]
    }
   ],
   "source": [
    "num_epochs = 30\n",
    "\n",
    "model_bidi_lstm = tf.keras.Sequential([\n",
    "    tf.keras.layers.Embedding(vocab_size, embedding_dim, input_length=max_length),\n",
    "    tf.keras.layers.Bidirectional(tf.keras.layers.LSTM(embedding_dim)), \n",
    "    tf.keras.layers.Dense(1, activation='sigmoid')\n",
    "])\n",
    "\n",
    "learning_rate = 0.00003\n",
    "model_bidi_lstm.compile(loss='binary_crossentropy',\n",
    "                        optimizer=tf.keras.optimizers.Adam(learning_rate),\n",
    "                        metrics=['accuracy'])\n",
    "fit_model_and_show_results(model_bidi_lstm, new_reviews)"
   ]
  },
  {
   "cell_type": "markdown",
   "id": "f70b368a",
   "metadata": {},
   "source": [
    "## Use multiple bidirectional LSTMs"
   ]
  },
  {
   "cell_type": "code",
   "execution_count": 26,
   "id": "80314b52",
   "metadata": {},
   "outputs": [
    {
     "name": "stdout",
     "output_type": "stream",
     "text": [
      "Model: \"sequential_6\"\n",
      "_________________________________________________________________\n",
      "Layer (type)                 Output Shape              Param #   \n",
      "=================================================================\n",
      "embedding_6 (Embedding)      (None, 50, 16)            64000     \n",
      "_________________________________________________________________\n",
      "bidirectional_2 (Bidirection (None, 50, 32)            4224      \n",
      "_________________________________________________________________\n",
      "bidirectional_3 (Bidirection (None, 32)                6272      \n",
      "_________________________________________________________________\n",
      "dense_6 (Dense)              (None, 1)                 33        \n",
      "=================================================================\n",
      "Total params: 74,529\n",
      "Trainable params: 74,529\n",
      "Non-trainable params: 0\n",
      "_________________________________________________________________\n",
      "Epoch 1/30\n",
      "313/313 [==============================] - 20s 48ms/step - loss: 0.6832 - accuracy: 0.5606 - val_loss: 0.6804 - val_accuracy: 0.6067\n",
      "Epoch 2/30\n",
      "313/313 [==============================] - 13s 42ms/step - loss: 0.5022 - accuracy: 0.7507 - val_loss: 0.5150 - val_accuracy: 0.7489\n",
      "Epoch 3/30\n",
      "313/313 [==============================] - 13s 40ms/step - loss: 0.3535 - accuracy: 0.8402 - val_loss: 0.5514 - val_accuracy: 0.7477\n",
      "Epoch 4/30\n",
      "313/313 [==============================] - 14s 44ms/step - loss: 0.3008 - accuracy: 0.8664 - val_loss: 0.5565 - val_accuracy: 0.7477\n",
      "Epoch 5/30\n",
      "313/313 [==============================] - 13s 42ms/step - loss: 0.2708 - accuracy: 0.8772 - val_loss: 0.6419 - val_accuracy: 0.7374\n",
      "Epoch 6/30\n",
      "313/313 [==============================] - 11s 37ms/step - loss: 0.2474 - accuracy: 0.8909 - val_loss: 0.6750 - val_accuracy: 0.7259\n",
      "Epoch 7/30\n",
      "313/313 [==============================] - 11s 36ms/step - loss: 0.2315 - accuracy: 0.8954 - val_loss: 0.7581 - val_accuracy: 0.7328\n",
      "Epoch 8/30\n",
      "313/313 [==============================] - 12s 37ms/step - loss: 0.2182 - accuracy: 0.9026 - val_loss: 0.8035 - val_accuracy: 0.7271\n",
      "Epoch 9/30\n",
      "313/313 [==============================] - 11s 36ms/step - loss: 0.2114 - accuracy: 0.9061 - val_loss: 0.7615 - val_accuracy: 0.7305\n",
      "Epoch 10/30\n",
      "313/313 [==============================] - 11s 37ms/step - loss: 0.1982 - accuracy: 0.9102 - val_loss: 0.8335 - val_accuracy: 0.7328\n",
      "Epoch 11/30\n",
      "313/313 [==============================] - 12s 38ms/step - loss: 0.1933 - accuracy: 0.9153 - val_loss: 0.8767 - val_accuracy: 0.7202\n",
      "Epoch 12/30\n",
      "313/313 [==============================] - 14s 46ms/step - loss: 0.1922 - accuracy: 0.9128 - val_loss: 0.8595 - val_accuracy: 0.7282\n",
      "Epoch 13/30\n",
      "313/313 [==============================] - 12s 39ms/step - loss: 0.1854 - accuracy: 0.9161 - val_loss: 0.8994 - val_accuracy: 0.7259\n",
      "Epoch 14/30\n",
      "313/313 [==============================] - 11s 34ms/step - loss: 0.1858 - accuracy: 0.9142 - val_loss: 0.8964 - val_accuracy: 0.7225\n",
      "Epoch 15/30\n",
      "313/313 [==============================] - 12s 40ms/step - loss: 0.1761 - accuracy: 0.9176 - val_loss: 0.9623 - val_accuracy: 0.7213\n",
      "Epoch 16/30\n",
      "313/313 [==============================] - 13s 40ms/step - loss: 0.1817 - accuracy: 0.9205 - val_loss: 0.9136 - val_accuracy: 0.7454\n",
      "Epoch 17/30\n",
      "313/313 [==============================] - 13s 43ms/step - loss: 0.1737 - accuracy: 0.9200 - val_loss: 0.9160 - val_accuracy: 0.7259\n",
      "Epoch 18/30\n",
      "313/313 [==============================] - 11s 36ms/step - loss: 0.1745 - accuracy: 0.9238 - val_loss: 0.9420 - val_accuracy: 0.7282\n",
      "Epoch 19/30\n",
      "313/313 [==============================] - 11s 34ms/step - loss: 0.1695 - accuracy: 0.9213 - val_loss: 1.0174 - val_accuracy: 0.7317\n",
      "Epoch 20/30\n",
      "313/313 [==============================] - 11s 34ms/step - loss: 0.1701 - accuracy: 0.9257 - val_loss: 0.9563 - val_accuracy: 0.7317\n",
      "Epoch 21/30\n",
      "313/313 [==============================] - 11s 34ms/step - loss: 0.1661 - accuracy: 0.9259 - val_loss: 0.9829 - val_accuracy: 0.7202\n",
      "Epoch 22/30\n",
      "313/313 [==============================] - 11s 34ms/step - loss: 0.1644 - accuracy: 0.9268 - val_loss: 1.0214 - val_accuracy: 0.7305\n",
      "Epoch 23/30\n",
      "313/313 [==============================] - 11s 35ms/step - loss: 0.1648 - accuracy: 0.9226 - val_loss: 1.0190 - val_accuracy: 0.7248\n",
      "Epoch 24/30\n",
      "313/313 [==============================] - 11s 34ms/step - loss: 0.1638 - accuracy: 0.9249 - val_loss: 1.0113 - val_accuracy: 0.7294\n",
      "Epoch 25/30\n",
      "313/313 [==============================] - 11s 34ms/step - loss: 0.1694 - accuracy: 0.9253 - val_loss: 1.0340 - val_accuracy: 0.7248\n",
      "Epoch 26/30\n",
      "313/313 [==============================] - 11s 34ms/step - loss: 0.1622 - accuracy: 0.9267 - val_loss: 1.0110 - val_accuracy: 0.7156\n",
      "Epoch 27/30\n",
      "313/313 [==============================] - 11s 34ms/step - loss: 0.1598 - accuracy: 0.9267 - val_loss: 1.0228 - val_accuracy: 0.7213\n",
      "Epoch 28/30\n",
      "313/313 [==============================] - 11s 34ms/step - loss: 0.1614 - accuracy: 0.9273 - val_loss: 1.0416 - val_accuracy: 0.7385\n",
      "Epoch 29/30\n",
      "313/313 [==============================] - 11s 34ms/step - loss: 0.1538 - accuracy: 0.9270 - val_loss: 1.0440 - val_accuracy: 0.7305\n",
      "Epoch 30/30\n",
      "313/313 [==============================] - 11s 34ms/step - loss: 0.1629 - accuracy: 0.9265 - val_loss: 0.9923 - val_accuracy: 0.7236\n"
     ]
    },
    {
     "data": {
      "image/png": "[encoded data removed]",
      "text/plain": [
       "<Figure size 432x288 with 1 Axes>"
      ]
     },
     "metadata": {
      "needs_background": "light"
     },
     "output_type": "display_data"
    },
    {
     "data": {
      "image/png": "[encoded data removed]",
      "text/plain": [
       "<Figure size 432x288 with 1 Axes>"
      ]
     },
     "metadata": {
      "needs_background": "light"
     },
     "output_type": "display_data"
    },
    {
     "name": "stdout",
     "output_type": "stream",
     "text": [
      "WARNING:tensorflow:5 out of the last 5 calls to <function Model.make_predict_function.<locals>.predict_function at 0x7f957df12ae8> triggered tf.function retracing. Tracing is expensive and the excessive number of tracings could be due to (1) creating @tf.function repeatedly in a loop, (2) passing tensors with different shapes, (3) passing Python objects instead of tensors. For (1), please define your @tf.function outside of the loop. For (2), @tf.function has experimental_relax_shapes=True option that relaxes argument shapes that can avoid unnecessary retracing. For (3), please refer to https://www.tensorflow.org/guide/function#controlling_retracing and https://www.tensorflow.org/api_docs/python/tf/function for  more details.\n"
     ]
    },
    {
     "name": "stderr",
     "output_type": "stream",
     "text": [
      "WARNING:tensorflow:5 out of the last 5 calls to <function Model.make_predict_function.<locals>.predict_function at 0x7f957df12ae8> triggered tf.function retracing. Tracing is expensive and the excessive number of tracings could be due to (1) creating @tf.function repeatedly in a loop, (2) passing tensors with different shapes, (3) passing Python objects instead of tensors. For (1), please define your @tf.function outside of the loop. For (2), @tf.function has experimental_relax_shapes=True option that relaxes argument shapes that can avoid unnecessary retracing. For (3), please refer to https://www.tensorflow.org/guide/function#controlling_retracing and https://www.tensorflow.org/api_docs/python/tf/function for  more details.\n"
     ]
    },
    {
     "name": "stdout",
     "output_type": "stream",
     "text": [
      "I loved this movie\n",
      "[0.35706806]\n",
      "\n",
      "\n",
      "that was the worst movie I've ever seen\n",
      "[0.02318516]\n",
      "\n",
      "\n",
      "too much violence even for a Bond film\n",
      "[0.01350701]\n",
      "\n",
      "\n",
      "a captivating recounting of a cherished myth\n",
      "[0.9908416]\n",
      "\n",
      "\n"
     ]
    }
   ],
   "source": [
    "num_epochs = 30\n",
    "\n",
    "model_multiple_bidi_lstm = tf.keras.Sequential([\n",
    "    tf.keras.layers.Embedding(vocab_size, embedding_dim, input_length=max_length),\n",
    "    tf.keras.layers.Bidirectional(tf.keras.layers.LSTM(embedding_dim, \n",
    "                                                       return_sequences=True)),\n",
    "    tf.keras.layers.Bidirectional(tf.keras.layers.LSTM(embedding_dim)),\n",
    "    tf.keras.layers.Dense(1, activation='sigmoid')\n",
    "])\n",
    "\n",
    "learning_rate = 0.0003\n",
    "model_multiple_bidi_lstm.compile(loss='binary_crossentropy',\n",
    "                                 optimizer=tf.keras.optimizers.Adam(learning_rate),\n",
    "                                 metrics=['accuracy'])\n",
    "fit_model_and_show_results(model_multiple_bidi_lstm, new_reviews)"
   ]
  },
  {
   "cell_type": "markdown",
   "id": "97c09297",
   "metadata": {},
   "source": [
    "## Try some more reviews"
   ]
  },
  {
   "cell_type": "code",
   "execution_count": 27,
   "id": "c82a319c",
   "metadata": {},
   "outputs": [],
   "source": [
    "# Write some new reviews \n",
    "\n",
    "review1 = \"\"\"I loved this movie\"\"\"\n",
    "\n",
    "review2 = \"\"\"that was the worst movie I've ever seen\"\"\"\n",
    "\n",
    "review3 = \"\"\"too much violence even for a Bond film\"\"\"\n",
    "\n",
    "review4 = \"\"\"a captivating recounting of a cherished myth\"\"\"\n",
    "\n",
    "review5 = \"\"\"I saw this movie yesterday and I was feeling low to start with,\n",
    " but it was such a wonderful movie that it lifted my spirits and brightened \n",
    " my day, you can\\'t go wrong with a movie with Whoopi Goldberg in it.\"\"\"\n",
    "\n",
    "review6 = \"\"\"I don\\'t understand why it received an oscar recommendation\n",
    " for best movie, it was long and boring\"\"\"\n",
    "\n",
    "review7 = \"\"\"the scenery was magnificent, the CGI of the dogs was so realistic I\n",
    " thought they were played by real dogs even though they talked!\"\"\"\n",
    "\n",
    "review8 = \"\"\"The ending was so sad and yet so uplifting at the same time. \n",
    " I'm looking for an excuse to see it again\"\"\"\n",
    "\n",
    "review9 = \"\"\"I had expected so much more from a movie made by the director \n",
    " who made my most favorite movie ever, I was very disappointed in the tedious \n",
    " story\"\"\"\n",
    "\n",
    "review10 = \"I wish I could watch this movie every day for the rest of my life\"\n",
    "\n",
    "more_reviews = [review1, review2, review3, review4, review5, review6, review7, \n",
    "               review8, review9, review10]\n"
   ]
  },
  {
   "cell_type": "code",
   "execution_count": 28,
   "id": "98640f4f",
   "metadata": {},
   "outputs": [
    {
     "name": "stdout",
     "output_type": "stream",
     "text": [
      "============================\n",
      " Embeddings only:\n",
      " ============================\n",
      "I loved this movie\n",
      "[0.42377287]\n",
      "\n",
      "\n",
      "that was the worst movie I've ever seen\n",
      "[0.12851411]\n",
      "\n",
      "\n",
      "too much violence even for a Bond film\n",
      "[0.03461561]\n",
      "\n",
      "\n",
      "a captivating recounting of a cherished myth\n",
      "[0.6371176]\n",
      "\n",
      "\n",
      "I saw this movie yesterday and I was feeling low to start with,\n",
      " but it was such a wonderful movie that it lifted my spirits and brightened \n",
      " my day, you can't go wrong with a movie with Whoopi Goldberg in it.\n",
      "[0.3064011]\n",
      "\n",
      "\n",
      "I don't understand why it received an oscar recommendation\n",
      " for best movie, it was long and boring\n",
      "[0.5237587]\n",
      "\n",
      "\n",
      "the scenery was magnificent, the CGI of the dogs was so realistic I\n",
      " thought they were played by real dogs even though they talked!\n",
      "[0.30880135]\n",
      "\n",
      "\n",
      "The ending was so sad and yet so uplifting at the same time. \n",
      " I'm looking for an excuse to see it again\n",
      "[0.56345344]\n",
      "\n",
      "\n",
      "I had expected so much more from a movie made by the director \n",
      " who made my most favorite movie ever, I was very disappointed in the tedious \n",
      " story\n",
      "[0.01145312]\n",
      "\n",
      "\n",
      "I wish I could watch this movie every day for the rest of my life\n",
      "[0.32839388]\n",
      "\n",
      "\n"
     ]
    }
   ],
   "source": [
    "print(\"============================\\n\",\"Embeddings only:\\n\", \"============================\")\n",
    "predict_review(model, more_reviews)"
   ]
  },
  {
   "cell_type": "code",
   "execution_count": 29,
   "id": "82f78502",
   "metadata": {},
   "outputs": [
    {
     "name": "stdout",
     "output_type": "stream",
     "text": [
      "============================\n",
      " With CNN\n",
      " ============================\n",
      "I loved this movie\n",
      "[0.8591789]\n",
      "\n",
      "\n",
      "that was the worst movie I've ever seen\n",
      "[0.02352479]\n",
      "\n",
      "\n",
      "too much violence even for a Bond film\n",
      "[0.00525296]\n",
      "\n",
      "\n",
      "a captivating recounting of a cherished myth\n",
      "[0.7323147]\n",
      "\n",
      "\n",
      "I saw this movie yesterday and I was feeling low to start with,\n",
      " but it was such a wonderful movie that it lifted my spirits and brightened \n",
      " my day, you can't go wrong with a movie with Whoopi Goldberg in it.\n",
      "[0.76072854]\n",
      "\n",
      "\n",
      "I don't understand why it received an oscar recommendation\n",
      " for best movie, it was long and boring\n",
      "[0.6719197]\n",
      "\n",
      "\n",
      "the scenery was magnificent, the CGI of the dogs was so realistic I\n",
      " thought they were played by real dogs even though they talked!\n",
      "[0.2451337]\n",
      "\n",
      "\n",
      "The ending was so sad and yet so uplifting at the same time. \n",
      " I'm looking for an excuse to see it again\n",
      "[0.6436709]\n",
      "\n",
      "\n",
      "I had expected so much more from a movie made by the director \n",
      " who made my most favorite movie ever, I was very disappointed in the tedious \n",
      " story\n",
      "[0.03816187]\n",
      "\n",
      "\n",
      "I wish I could watch this movie every day for the rest of my life\n",
      "[0.3529704]\n",
      "\n",
      "\n"
     ]
    }
   ],
   "source": [
    "print(\"============================\\n\",\"With CNN\\n\", \"============================\")\n",
    "predict_review(model_cnn, more_reviews)"
   ]
  },
  {
   "cell_type": "code",
   "execution_count": 30,
   "id": "b786e26b",
   "metadata": {},
   "outputs": [
    {
     "name": "stdout",
     "output_type": "stream",
     "text": [
      "===========================\n",
      " With bidirectional GRU\n",
      " ============================\n",
      "I loved this movie\n",
      "[0.38676003]\n",
      "\n",
      "\n",
      "that was the worst movie I've ever seen\n",
      "[0.18876237]\n",
      "\n",
      "\n",
      "too much violence even for a Bond film\n",
      "[0.1434528]\n",
      "\n",
      "\n",
      "a captivating recounting of a cherished myth\n",
      "[0.49320048]\n",
      "\n",
      "\n",
      "I saw this movie yesterday and I was feeling low to start with,\n",
      " but it was such a wonderful movie that it lifted my spirits and brightened \n",
      " my day, you can't go wrong with a movie with Whoopi Goldberg in it.\n",
      "[0.10474741]\n",
      "\n",
      "\n",
      "I don't understand why it received an oscar recommendation\n",
      " for best movie, it was long and boring\n",
      "[0.14249772]\n",
      "\n",
      "\n",
      "the scenery was magnificent, the CGI of the dogs was so realistic I\n",
      " thought they were played by real dogs even though they talked!\n",
      "[0.1341244]\n",
      "\n",
      "\n",
      "The ending was so sad and yet so uplifting at the same time. \n",
      " I'm looking for an excuse to see it again\n",
      "[0.18684256]\n",
      "\n",
      "\n",
      "I had expected so much more from a movie made by the director \n",
      " who made my most favorite movie ever, I was very disappointed in the tedious \n",
      " story\n",
      "[0.06657568]\n",
      "\n",
      "\n",
      "I wish I could watch this movie every day for the rest of my life\n",
      "[0.18235633]\n",
      "\n",
      "\n"
     ]
    }
   ],
   "source": [
    "print(\"===========================\\n\",\"With bidirectional GRU\\n\", \"============================\")\n",
    "predict_review(model_gru, more_reviews)"
   ]
  },
  {
   "cell_type": "code",
   "execution_count": 31,
   "id": "ded3fb09",
   "metadata": {},
   "outputs": [
    {
     "name": "stdout",
     "output_type": "stream",
     "text": [
      "===========================\n",
      " With a single bidirectional LSTM:\n",
      " ===========================\n",
      "I loved this movie\n",
      "[0.451805]\n",
      "\n",
      "\n",
      "that was the worst movie I've ever seen\n",
      "[0.28201663]\n",
      "\n",
      "\n",
      "too much violence even for a Bond film\n",
      "[0.37952876]\n",
      "\n",
      "\n",
      "a captivating recounting of a cherished myth\n",
      "[0.47603908]\n",
      "\n",
      "\n",
      "I saw this movie yesterday and I was feeling low to start with,\n",
      " but it was such a wonderful movie that it lifted my spirits and brightened \n",
      " my day, you can't go wrong with a movie with Whoopi Goldberg in it.\n",
      "[0.1868298]\n",
      "\n",
      "\n",
      "I don't understand why it received an oscar recommendation\n",
      " for best movie, it was long and boring\n",
      "[0.33552212]\n",
      "\n",
      "\n",
      "the scenery was magnificent, the CGI of the dogs was so realistic I\n",
      " thought they were played by real dogs even though they talked!\n",
      "[0.2241477]\n",
      "\n",
      "\n",
      "The ending was so sad and yet so uplifting at the same time. \n",
      " I'm looking for an excuse to see it again\n",
      "[0.33272952]\n",
      "\n",
      "\n",
      "I had expected so much more from a movie made by the director \n",
      " who made my most favorite movie ever, I was very disappointed in the tedious \n",
      " story\n",
      "[0.15480804]\n",
      "\n",
      "\n",
      "I wish I could watch this movie every day for the rest of my life\n",
      "[0.43797827]\n",
      "\n",
      "\n"
     ]
    }
   ],
   "source": [
    "print(\"===========================\\n\", \"With a single bidirectional LSTM:\\n\", \"===========================\")\n",
    "predict_review(model_bidi_lstm, more_reviews)"
   ]
  },
  {
   "cell_type": "code",
   "execution_count": 32,
   "id": "85b1644a",
   "metadata": {},
   "outputs": [
    {
     "name": "stdout",
     "output_type": "stream",
     "text": [
      "===========================\n",
      " With multiple bidirectional LSTM:\n",
      " ==========================\n",
      "I loved this movie\n",
      "[0.35706806]\n",
      "\n",
      "\n",
      "that was the worst movie I've ever seen\n",
      "[0.02318516]\n",
      "\n",
      "\n",
      "too much violence even for a Bond film\n",
      "[0.01350701]\n",
      "\n",
      "\n",
      "a captivating recounting of a cherished myth\n",
      "[0.9908416]\n",
      "\n",
      "\n",
      "I saw this movie yesterday and I was feeling low to start with,\n",
      " but it was such a wonderful movie that it lifted my spirits and brightened \n",
      " my day, you can't go wrong with a movie with Whoopi Goldberg in it.\n",
      "[0.16137508]\n",
      "\n",
      "\n",
      "I don't understand why it received an oscar recommendation\n",
      " for best movie, it was long and boring\n",
      "[0.9803375]\n",
      "\n",
      "\n",
      "the scenery was magnificent, the CGI of the dogs was so realistic I\n",
      " thought they were played by real dogs even though they talked!\n",
      "[0.98845685]\n",
      "\n",
      "\n",
      "The ending was so sad and yet so uplifting at the same time. \n",
      " I'm looking for an excuse to see it again\n",
      "[0.0504339]\n",
      "\n",
      "\n",
      "I had expected so much more from a movie made by the director \n",
      " who made my most favorite movie ever, I was very disappointed in the tedious \n",
      " story\n",
      "[0.01873401]\n",
      "\n",
      "\n",
      "I wish I could watch this movie every day for the rest of my life\n",
      "[0.01896858]\n",
      "\n",
      "\n"
     ]
    }
   ],
   "source": [
    "print(\"===========================\\n\", \"With multiple bidirectional LSTM:\\n\", \"==========================\")\n",
    "predict_review(model_multiple_bidi_lstm, more_reviews)"
   ]
  },
  {
   "cell_type": "code",
   "execution_count": null,
   "id": "f10c9a23",
   "metadata": {},
   "outputs": [],
   "source": []
  }
 ],
 "metadata": {
  "kernelspec": {
   "display_name": "Python 3",
   "language": "python",
   "name": "python3"
  },
  "language_info": {
   "codemirror_mode": {
    "name": "ipython",
    "version": 3
   },
   "file_extension": ".py",
   "mimetype": "text/x-python",
   "name": "python",
   "nbconvert_exporter": "python",
   "pygments_lexer": "ipython3",
   "version": "3.6.13"
  }
 },
 "nbformat": 4,
 "nbformat_minor": 5
}
