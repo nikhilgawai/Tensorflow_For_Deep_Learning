{
 "cells": [
  {
   "cell_type": "markdown",
   "id": "ae16d17d",
   "metadata": {},
   "source": [
    "# Functions, Conditions, Iterations"
   ]
  },
  {
   "cell_type": "code",
   "execution_count": 4,
   "id": "ea49e699",
   "metadata": {},
   "outputs": [
    {
     "name": "stdout",
     "output_type": "stream",
     "text": [
      "Now running with i: 10\n",
      "X was >= 10 but < 20\n",
      "Result from HelloWorld 20\n",
      "Now running with i: 15\n",
      "X was >= 10 but < 20\n",
      "Result from HelloWorld 30\n",
      "Now running with i: 20\n",
      "X was >= 20\n",
      "Result from HelloWorld 40\n",
      "Now running with i: 25\n",
      "X was >= 20\n",
      "Result from HelloWorld 50\n"
     ]
    }
   ],
   "source": [
    "def HelloWorldXY(x,y):\n",
    "    if x < 10:\n",
    "        print('X was < 10')\n",
    "    elif x < 20:\n",
    "        print('X was >= 10 but < 20')\n",
    "    else:\n",
    "        print('X was >= 20')\n",
    "    return x + y\n",
    "\n",
    "for i in range(10, 30, 5):\n",
    "    print('Now running with i: {}'.format(i))\n",
    "    r = HelloWorldXY(i,i)\n",
    "    print('Result from HelloWorld {}'.format(r))"
   ]
  },
  {
   "cell_type": "code",
   "execution_count": 9,
   "id": "df68945d",
   "metadata": {},
   "outputs": [
    {
     "name": "stdout",
     "output_type": "stream",
     "text": [
      "X was >= 10 but < 20\n",
      "15\n"
     ]
    }
   ],
   "source": [
    "print(HelloWorldXY(10,5))"
   ]
  },
  {
   "cell_type": "markdown",
   "id": "ee259920",
   "metadata": {},
   "source": [
    "# Iteration "
   ]
  },
  {
   "cell_type": "code",
   "execution_count": 20,
   "id": "20c6c739",
   "metadata": {},
   "outputs": [
    {
     "name": "stdout",
     "output_type": "stream",
     "text": [
      "iterating over range 4\n",
      "0\n",
      "1\n",
      "2\n",
      "3\n",
      "iterate over list\n",
      "0\n",
      "1\n",
      "2\n",
      "3\n",
      "while works\n",
      "0\n",
      "1\n",
      "2\n",
      "3\n"
     ]
    }
   ],
   "source": [
    "print('iterating over range 4')\n",
    "for i in range(4):\n",
    "    print(i)\n",
    "    \n",
    "print('iterate over list')\n",
    "for i in [0,1,2,3]:\n",
    "    print(i)\n",
    "    \n",
    "print('while works')    \n",
    "i = 0\n",
    "while i < 4:\n",
    "    print(i)\n",
    "    i += 1"
   ]
  },
  {
   "cell_type": "code",
   "execution_count": 21,
   "id": "352f23cd",
   "metadata": {},
   "outputs": [
    {
     "name": "stdout",
     "output_type": "stream",
     "text": [
      "nik\n"
     ]
    }
   ],
   "source": [
    "# Break\n",
    "while True:\n",
    "    print('nik')\n",
    "    break"
   ]
  },
  {
   "cell_type": "markdown",
   "id": "5115aa45",
   "metadata": {},
   "source": [
    "# Numpy and List"
   ]
  },
  {
   "cell_type": "code",
   "execution_count": 26,
   "id": "1e388f7a",
   "metadata": {},
   "outputs": [
    {
     "name": "stdout",
     "output_type": "stream",
     "text": [
      "['nik' 'gawai' '!']\n",
      "nik\n",
      "gawai\n",
      "!\n"
     ]
    }
   ],
   "source": [
    "import numpy as np\n",
    "\n",
    "a = np.array(['nik','gawai'])\n",
    "a = np.append(a,'!')\n",
    "\n",
    "print(a)\n",
    "\n",
    "for i in a:\n",
    "    print(i)\n",
    "\n"
   ]
  },
  {
   "cell_type": "code",
   "execution_count": 35,
   "id": "5120000c",
   "metadata": {},
   "outputs": [
    {
     "name": "stdout",
     "output_type": "stream",
     "text": [
      "4\n",
      "2.0\n",
      "0\n",
      "2\n",
      "max: 4\n",
      "average: 2.0\n",
      "min: 0\n",
      "max index:2\n"
     ]
    }
   ],
   "source": [
    "b = np.array([0,1,4,3,2])\n",
    "\n",
    "print(np.max(b))\n",
    "print(np.average(b))\n",
    "print(np.min(b))\n",
    "print(np.argmax(b))\n",
    "\n",
    "print('max: {}'.format(np.max(b)))\n",
    "print('average: {}'.format(np.average(b)))\n",
    "print('min: {}'.format(np.min(b)))\n",
    "print('max index:{}'.format(np.argmax(b)))"
   ]
  },
  {
   "cell_type": "code",
   "execution_count": 36,
   "id": "df30af35",
   "metadata": {},
   "outputs": [
    {
     "name": "stdout",
     "output_type": "stream",
     "text": [
      "<class 'numpy.ndarray'>\n",
      "<class 'numpy.ndarray'>\n"
     ]
    }
   ],
   "source": [
    "print(type(a))\n",
    "print(type(b))"
   ]
  },
  {
   "cell_type": "code",
   "execution_count": 40,
   "id": "f2ad35ff",
   "metadata": {},
   "outputs": [
    {
     "name": "stdout",
     "output_type": "stream",
     "text": [
      "[[0.57549501 0.58999437 0.91936896 0.49900618]\n",
      " [0.42730913 0.89388224 0.04860883 0.36029315]\n",
      " [0.66140072 0.35160549 0.70790856 0.98456741]]\n"
     ]
    }
   ],
   "source": [
    "c = np.random.rand(3,4)\n",
    "print(c)"
   ]
  },
  {
   "cell_type": "markdown",
   "id": "de3330a6",
   "metadata": {},
   "source": [
    "# Shape"
   ]
  },
  {
   "cell_type": "code",
   "execution_count": 45,
   "id": "e9065d4d",
   "metadata": {},
   "outputs": [
    {
     "name": "stdout",
     "output_type": "stream",
     "text": [
      "shape of a:(3,)\n",
      "shape of b:(5,)\n",
      "shape of c:(3, 4)\n"
     ]
    }
   ],
   "source": [
    "print('shape of a:{}'.format(a.shape))\n",
    "print('shape of b:{}'.format(b.shape))\n",
    "print('shape of c:{}'.format(c.shape))"
   ]
  },
  {
   "cell_type": "code",
   "execution_count": 48,
   "id": "40c0ea8d",
   "metadata": {},
   "outputs": [
    {
     "name": "stdout",
     "output_type": "stream",
     "text": [
      "total 8\n",
      "-rw-rw-r-- 1 nikhil nikhil 6282 Oct  6 14:45 'intro to colab.ipynb'\n",
      "/home/nikhil/JupyTensorflow\n"
     ]
    }
   ],
   "source": [
    "!ls -l\n",
    "!pwd"
   ]
  },
  {
   "cell_type": "code",
   "execution_count": 50,
   "id": "68e684ad",
   "metadata": {},
   "outputs": [
    {
     "name": "stdout",
     "output_type": "stream",
     "text": [
      "/home/nikhil/JupyTensorflow\n",
      "total 8\n",
      "-rw-rw-r-- 1 nikhil nikhil 6282 Oct  6 14:45 'intro to colab.ipynb'\n",
      "nik\n"
     ]
    }
   ],
   "source": [
    "!pwd\n",
    "!cd /\n",
    "!ls -l\n",
    "print('nik')"
   ]
  },
  {
   "cell_type": "code",
   "execution_count": null,
   "id": "ecde3ab6",
   "metadata": {},
   "outputs": [],
   "source": []
  }
 ],
 "metadata": {
  "kernelspec": {
   "display_name": "Python 3 (ipykernel)",
   "language": "python",
   "name": "python3"
  },
  "language_info": {
   "codemirror_mode": {
    "name": "ipython",
    "version": 3
   },
   "file_extension": ".py",
   "mimetype": "text/x-python",
   "name": "python",
   "nbconvert_exporter": "python",
   "pygments_lexer": "ipython3",
   "version": "3.8.8"
  }
 },
 "nbformat": 4,
 "nbformat_minor": 5
}
