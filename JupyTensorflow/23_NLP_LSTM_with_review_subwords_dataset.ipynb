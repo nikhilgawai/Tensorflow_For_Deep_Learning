{
 "cells": [
  {
   "cell_type": "markdown",
   "id": "14efc02a",
   "metadata": {},
   "source": [
    "## Using LSTMs with the subwords dataset"
   ]
  },
  {
   "cell_type": "code",
   "execution_count": 1,
   "id": "08583f93",
   "metadata": {},
   "outputs": [],
   "source": [
    "import tensorflow as tf\n",
    "from tensorflow.keras.preprocessing.sequence import pad_sequences"
   ]
  },
  {
   "cell_type": "markdown",
   "id": "2db18782",
   "metadata": {},
   "source": [
    "## Get the dataset"
   ]
  },
  {
   "cell_type": "code",
   "execution_count": 2,
   "id": "70780a11",
   "metadata": {},
   "outputs": [
    {
     "name": "stdout",
     "output_type": "stream",
     "text": [
      "--2022-10-19 13:07:13--  https://drive.google.com/uc?id=13ySLC_ue6Umt9RJYSeM2t-V0kCv-4C-P\n",
      "Resolving drive.google.com (drive.google.com)... 2404:6800:4009:81b::200e, 142.250.76.206\n",
      "Connecting to drive.google.com (drive.google.com)|2404:6800:4009:81b::200e|:443... connected.\n",
      "HTTP request sent, awaiting response... 303 See Other\n",
      "Location: https://doc-08-ak-docs.googleusercontent.com/docs/securesc/ha0ro937gcuc7l7deffksulhg5h7mbp1/fre4u6aj9s8dmb3foosaka9s4ln50dhm/1666164975000/11118900490791463723/*/13ySLC_ue6Umt9RJYSeM2t-V0kCv-4C-P?uuid=ec8c773a-93d9-45b3-bf51-8ee3345fa96e [following]\n",
      "Warning: wildcards not supported in HTTP.\n",
      "--2022-10-19 13:07:13--  https://doc-08-ak-docs.googleusercontent.com/docs/securesc/ha0ro937gcuc7l7deffksulhg5h7mbp1/fre4u6aj9s8dmb3foosaka9s4ln50dhm/1666164975000/11118900490791463723/*/13ySLC_ue6Umt9RJYSeM2t-V0kCv-4C-P?uuid=ec8c773a-93d9-45b3-bf51-8ee3345fa96e\n",
      "Resolving doc-08-ak-docs.googleusercontent.com (doc-08-ak-docs.googleusercontent.com)... 2404:6800:4009:82e::2001, 142.250.199.161\n",
      "Connecting to doc-08-ak-docs.googleusercontent.com (doc-08-ak-docs.googleusercontent.com)|2404:6800:4009:82e::2001|:443... connected.\n",
      "HTTP request sent, awaiting response... 200 OK\n",
      "Length: 127831 (125K) [text/csv]\n",
      "Saving to: ‘/tmp/sentiment.csv’\n",
      "\n",
      "/tmp/sentiment.csv  100%[===================>] 124.83K   541KB/s    in 0.2s    \n",
      "\n",
      "2022-10-19 13:07:14 (541 KB/s) - ‘/tmp/sentiment.csv’ saved [127831/127831]\n",
      "\n"
     ]
    }
   ],
   "source": [
    "!wget --no-check-certificate \\\n",
    "    https://drive.google.com/uc?id=13ySLC_ue6Umt9RJYSeM2t-V0kCv-4C-P -O /tmp/sentiment.csv"
   ]
  },
  {
   "cell_type": "code",
   "execution_count": 3,
   "id": "7ea729da",
   "metadata": {},
   "outputs": [
    {
     "name": "stderr",
     "output_type": "stream",
     "text": [
      "/home/nikhil/anaconda3/envs/deepl/lib/python3.6/importlib/_bootstrap.py:219: RuntimeWarning: numpy.ufunc size changed, may indicate binary incompatibility. Expected 192 from C header, got 216 from PyObject\n",
      "  return f(*args, **kwds)\n"
     ]
    }
   ],
   "source": [
    "import pandas as pd\n",
    "\n",
    "dataset = pd.read_csv('/tmp/sentiment.csv')\n",
    "\n",
    "# Extract out sentences and labels\n",
    "sentences = dataset['text'].tolist()\n",
    "labels = dataset['sentiment'].tolist()"
   ]
  },
  {
   "cell_type": "code",
   "execution_count": 5,
   "id": "075a73bb",
   "metadata": {},
   "outputs": [
    {
     "name": "stdout",
     "output_type": "stream",
     "text": [
      "So there is no way for me to plug it in here in the US unless I go by a converter.\n",
      "0\n",
      "\n",
      "\n",
      "Good case Excellent value.\n",
      "1\n",
      "\n",
      "\n"
     ]
    }
   ],
   "source": [
    "# Print some example sentences and labels\n",
    "\n",
    "for x in range(2):\n",
    "    print(sentences[x])\n",
    "    print(labels[x])\n",
    "    print('\\n')"
   ]
  },
  {
   "cell_type": "markdown",
   "id": "f801070d",
   "metadata": {},
   "source": [
    "## Create a subwords dataset"
   ]
  },
  {
   "cell_type": "code",
   "execution_count": 6,
   "id": "110f26b1",
   "metadata": {},
   "outputs": [
    {
     "name": "stdout",
     "output_type": "stream",
     "text": [
      "Vocab Size is:- 999\n"
     ]
    }
   ],
   "source": [
    "import tensorflow_datasets as tfds\n",
    "\n",
    "vocab_size = 1000\n",
    "tokenizer = tfds.deprecated.text.SubwordTextEncoder.build_from_corpus(sentences, vocab_size,max_subword_length=5)\n",
    "print('Vocab Size is:-',tokenizer.vocab_size)"
   ]
  },
  {
   "cell_type": "code",
   "execution_count": 7,
   "id": "c5885076",
   "metadata": {},
   "outputs": [
    {
     "name": "stdout",
     "output_type": "stream",
     "text": [
      "I have to jiggle the plug to get it to line up right to get decent volume.\n",
      "[4, 31, 6, 849, 162, 450, 12, 1, 600, 438, 775, 6, 175, 14, 6, 55, 213, 159, 474, 775, 6, 175, 614, 380, 295, 148, 72, 789]\n"
     ]
    }
   ],
   "source": [
    "# Check that the tokenizer works appropriately\n",
    "num = 5\n",
    "print(sentences[num])\n",
    "encoded = tokenizer.encode(sentences[num])\n",
    "print(encoded)"
   ]
  },
  {
   "cell_type": "code",
   "execution_count": 8,
   "id": "d58ab91a",
   "metadata": {},
   "outputs": [
    {
     "name": "stdout",
     "output_type": "stream",
     "text": [
      "I \n",
      "have \n",
      "to \n",
      "j\n",
      "ig\n",
      "gl\n",
      "e \n",
      "the \n",
      "pl\n",
      "ug\n",
      " \n",
      "to \n",
      "get \n",
      "it \n",
      "to \n",
      "li\n",
      "ne \n",
      "up \n",
      "right\n",
      " \n",
      "to \n",
      "get \n",
      "dec\n",
      "ent \n",
      "vo\n",
      "lu\n",
      "me\n",
      ".\n"
     ]
    }
   ],
   "source": [
    "# Separately print out each subword, decoded\n",
    "for i in encoded:\n",
    "    print(tokenizer.decode([i]))"
   ]
  },
  {
   "cell_type": "markdown",
   "id": "40ece3c5",
   "metadata": {},
   "source": [
    "## Replace sentence data with encoded subwords"
   ]
  },
  {
   "cell_type": "code",
   "execution_count": 9,
   "id": "54252e25",
   "metadata": {},
   "outputs": [],
   "source": [
    "for i, sentence in enumerate(sentences):\n",
    "    sentences[i] = tokenizer.encode(sentence)"
   ]
  },
  {
   "cell_type": "code",
   "execution_count": 10,
   "id": "91402c99",
   "metadata": {},
   "outputs": [
    {
     "name": "stdout",
     "output_type": "stream",
     "text": [
      "[4, 31, 6, 849, 162, 450, 12, 1, 600, 438, 775, 6, 175, 14, 6, 55, 213, 159, 474, 775, 6, 175, 614, 380, 295, 148, 72, 789]\n"
     ]
    }
   ],
   "source": [
    "# Check the sentences are appropriately replaced\n",
    "print(sentences[5])"
   ]
  },
  {
   "cell_type": "markdown",
   "id": "bd21fe6b",
   "metadata": {},
   "source": [
    "## Final pre-processing"
   ]
  },
  {
   "cell_type": "code",
   "execution_count": 11,
   "id": "5f8b1a2e",
   "metadata": {},
   "outputs": [],
   "source": [
    "import numpy as np\n",
    "\n",
    "max_length = 50\n",
    "trunc_type='post'\n",
    "padding_type='post'\n",
    "\n",
    "# Pad all sequences\n",
    "sequences_padded = pad_sequences(sentences, maxlen=max_length, \n",
    "                                 padding=padding_type, truncating=trunc_type)\n",
    "\n",
    "# Separate out the sentences and labels into training and test sets\n",
    "training_size = int(len(sentences) * 0.8)\n",
    "\n",
    "training_sequences = sequences_padded[0:training_size]\n",
    "testing_sequences = sequences_padded[training_size:]\n",
    "training_labels = labels[0:training_size]\n",
    "testing_labels = labels[training_size:]\n",
    "\n",
    "# Make labels into numpy arrays for use with the network later\n",
    "training_labels_final = np.array(training_labels)\n",
    "testing_labels_final = np.array(testing_labels)"
   ]
  },
  {
   "cell_type": "markdown",
   "id": "165f6d5e",
   "metadata": {},
   "source": [
    "## Create the model using an Embedding"
   ]
  },
  {
   "cell_type": "code",
   "execution_count": 12,
   "id": "af92dee1",
   "metadata": {},
   "outputs": [
    {
     "name": "stdout",
     "output_type": "stream",
     "text": [
      "Model: \"sequential\"\n",
      "_________________________________________________________________\n",
      "Layer (type)                 Output Shape              Param #   \n",
      "=================================================================\n",
      "embedding (Embedding)        (None, 50, 16)            16000     \n",
      "_________________________________________________________________\n",
      "global_average_pooling1d (Gl (None, 16)                0         \n",
      "_________________________________________________________________\n",
      "dense (Dense)                (None, 6)                 102       \n",
      "_________________________________________________________________\n",
      "dense_1 (Dense)              (None, 1)                 7         \n",
      "=================================================================\n",
      "Total params: 16,109\n",
      "Trainable params: 16,109\n",
      "Non-trainable params: 0\n",
      "_________________________________________________________________\n"
     ]
    }
   ],
   "source": [
    "embedding_dim = 16\n",
    "\n",
    "model = tf.keras.Sequential([\n",
    "    tf.keras.layers.Embedding(vocab_size, embedding_dim, input_length=max_length),\n",
    "    tf.keras.layers.GlobalAveragePooling1D(), \n",
    "    tf.keras.layers.Dense(6, activation='relu'),\n",
    "    tf.keras.layers.Dense(1, activation='sigmoid')\n",
    "])\n",
    "\n",
    "model.summary()"
   ]
  },
  {
   "cell_type": "markdown",
   "id": "06838d9d",
   "metadata": {},
   "source": [
    "## Train the model"
   ]
  },
  {
   "cell_type": "code",
   "execution_count": 13,
   "id": "6b0621b4",
   "metadata": {},
   "outputs": [
    {
     "name": "stdout",
     "output_type": "stream",
     "text": [
      "Epoch 1/30\n",
      "50/50 [==============================] - 1s 4ms/step - loss: 0.6921 - accuracy: 0.5116 - val_loss: 0.6963 - val_accuracy: 0.4236\n",
      "Epoch 2/30\n",
      "50/50 [==============================] - 0s 2ms/step - loss: 0.6870 - accuracy: 0.5675 - val_loss: 0.6960 - val_accuracy: 0.4461\n",
      "Epoch 3/30\n",
      "50/50 [==============================] - 0s 2ms/step - loss: 0.6776 - accuracy: 0.5945 - val_loss: 0.6854 - val_accuracy: 0.5188\n",
      "Epoch 4/30\n",
      "50/50 [==============================] - 0s 2ms/step - loss: 0.6618 - accuracy: 0.6717 - val_loss: 0.6770 - val_accuracy: 0.5363\n",
      "Epoch 5/30\n",
      "50/50 [==============================] - 0s 2ms/step - loss: 0.6396 - accuracy: 0.7238 - val_loss: 0.6631 - val_accuracy: 0.5614\n",
      "Epoch 6/30\n",
      "50/50 [==============================] - 0s 2ms/step - loss: 0.6110 - accuracy: 0.7596 - val_loss: 0.6438 - val_accuracy: 0.6291\n",
      "Epoch 7/30\n",
      "50/50 [==============================] - 0s 2ms/step - loss: 0.5749 - accuracy: 0.7897 - val_loss: 0.6096 - val_accuracy: 0.6992\n",
      "Epoch 8/30\n",
      "50/50 [==============================] - 0s 2ms/step - loss: 0.5358 - accuracy: 0.8205 - val_loss: 0.5873 - val_accuracy: 0.7218\n",
      "Epoch 9/30\n",
      "50/50 [==============================] - 0s 2ms/step - loss: 0.4967 - accuracy: 0.8336 - val_loss: 0.5521 - val_accuracy: 0.7820\n",
      "Epoch 10/30\n",
      "50/50 [==============================] - 0s 3ms/step - loss: 0.4604 - accuracy: 0.8500 - val_loss: 0.5399 - val_accuracy: 0.7594\n",
      "Epoch 11/30\n",
      "50/50 [==============================] - 0s 2ms/step - loss: 0.4253 - accuracy: 0.8581 - val_loss: 0.5304 - val_accuracy: 0.7444\n",
      "Epoch 12/30\n",
      "50/50 [==============================] - 0s 2ms/step - loss: 0.3994 - accuracy: 0.8625 - val_loss: 0.5118 - val_accuracy: 0.7644\n",
      "Epoch 13/30\n",
      "50/50 [==============================] - 0s 2ms/step - loss: 0.3692 - accuracy: 0.8770 - val_loss: 0.5082 - val_accuracy: 0.7544\n",
      "Epoch 14/30\n",
      "50/50 [==============================] - 0s 2ms/step - loss: 0.3457 - accuracy: 0.8782 - val_loss: 0.4976 - val_accuracy: 0.7669\n",
      "Epoch 15/30\n",
      "50/50 [==============================] - 0s 2ms/step - loss: 0.3259 - accuracy: 0.8826 - val_loss: 0.5101 - val_accuracy: 0.7544\n",
      "Epoch 16/30\n",
      "50/50 [==============================] - 0s 2ms/step - loss: 0.3073 - accuracy: 0.8901 - val_loss: 0.5031 - val_accuracy: 0.7519\n",
      "Epoch 17/30\n",
      "50/50 [==============================] - 0s 2ms/step - loss: 0.2916 - accuracy: 0.9014 - val_loss: 0.5195 - val_accuracy: 0.7519\n",
      "Epoch 18/30\n",
      "50/50 [==============================] - 0s 2ms/step - loss: 0.2765 - accuracy: 0.9058 - val_loss: 0.5067 - val_accuracy: 0.7569\n",
      "Epoch 19/30\n",
      "50/50 [==============================] - 0s 3ms/step - loss: 0.2648 - accuracy: 0.9046 - val_loss: 0.5098 - val_accuracy: 0.7519\n",
      "Epoch 20/30\n",
      "50/50 [==============================] - 0s 2ms/step - loss: 0.2540 - accuracy: 0.9121 - val_loss: 0.5103 - val_accuracy: 0.7494\n",
      "Epoch 21/30\n",
      "50/50 [==============================] - 0s 2ms/step - loss: 0.2408 - accuracy: 0.9171 - val_loss: 0.5086 - val_accuracy: 0.7569\n",
      "Epoch 22/30\n",
      "50/50 [==============================] - 0s 2ms/step - loss: 0.2315 - accuracy: 0.9165 - val_loss: 0.5252 - val_accuracy: 0.7569\n",
      "Epoch 23/30\n",
      "50/50 [==============================] - 0s 2ms/step - loss: 0.2216 - accuracy: 0.9240 - val_loss: 0.5260 - val_accuracy: 0.7544\n",
      "Epoch 24/30\n",
      "50/50 [==============================] - 0s 2ms/step - loss: 0.2160 - accuracy: 0.9222 - val_loss: 0.5384 - val_accuracy: 0.7419\n",
      "Epoch 25/30\n",
      "50/50 [==============================] - 0s 2ms/step - loss: 0.2065 - accuracy: 0.9335 - val_loss: 0.5560 - val_accuracy: 0.7444\n",
      "Epoch 26/30\n",
      "50/50 [==============================] - 0s 2ms/step - loss: 0.1966 - accuracy: 0.9341 - val_loss: 0.5527 - val_accuracy: 0.7444\n",
      "Epoch 27/30\n",
      "50/50 [==============================] - 0s 3ms/step - loss: 0.1896 - accuracy: 0.9404 - val_loss: 0.5549 - val_accuracy: 0.7519\n",
      "Epoch 28/30\n",
      "50/50 [==============================] - 0s 2ms/step - loss: 0.1832 - accuracy: 0.9422 - val_loss: 0.5678 - val_accuracy: 0.7469\n",
      "Epoch 29/30\n",
      "50/50 [==============================] - 0s 2ms/step - loss: 0.1762 - accuracy: 0.9454 - val_loss: 0.5768 - val_accuracy: 0.7519\n",
      "Epoch 30/30\n",
      "50/50 [==============================] - 0s 2ms/step - loss: 0.1732 - accuracy: 0.9460 - val_loss: 0.6235 - val_accuracy: 0.7268\n"
     ]
    }
   ],
   "source": [
    "num_epochs = 30\n",
    "model.compile(loss='binary_crossentropy',optimizer='adam',metrics=['accuracy'])\n",
    "history = model.fit(training_sequences, training_labels_final, epochs=num_epochs, validation_data=(testing_sequences, testing_labels_final))\n"
   ]
  },
  {
   "cell_type": "markdown",
   "id": "55167d83",
   "metadata": {},
   "source": [
    "## Plot the accuracy and loss"
   ]
  },
  {
   "cell_type": "code",
   "execution_count": 15,
   "id": "e1cc90e6",
   "metadata": {},
   "outputs": [
    {
     "data": {
      "image/png": "[encoded data removed]",
      "text/plain": [
       "<Figure size 432x288 with 1 Axes>"
      ]
     },
     "metadata": {
      "needs_background": "light"
     },
     "output_type": "display_data"
    },
    {
     "data": {
      "image/png": "[encoded data removed]",
      "text/plain": [
       "<Figure size 432x288 with 1 Axes>"
      ]
     },
     "metadata": {
      "needs_background": "light"
     },
     "output_type": "display_data"
    }
   ],
   "source": [
    "import matplotlib.pyplot as plt\n",
    "\n",
    "\n",
    "def plot_graphs(history, string):\n",
    "    plt.plot(history.history[string])\n",
    "    plt.plot(history.history['val_'+string])\n",
    "    plt.xlabel(\"Epochs\")\n",
    "    plt.ylabel(string)\n",
    "    plt.legend([string, 'val_'+string])\n",
    "    plt.show()\n",
    "  \n",
    "plot_graphs(history, \"accuracy\")\n",
    "plot_graphs(history, \"loss\")"
   ]
  },
  {
   "cell_type": "markdown",
   "id": "08aa64c9",
   "metadata": {},
   "source": [
    "## Define a function to predict the sentiment of reviews"
   ]
  },
  {
   "cell_type": "code",
   "execution_count": 16,
   "id": "0577091c",
   "metadata": {},
   "outputs": [],
   "source": [
    "def predict_review(model, new_sentences, maxlen=max_length, show_padded_sequence=True):\n",
    "    \n",
    "    new_sequences = []\n",
    "    \n",
    "    for i, frvw in enumerate(new_sentences):\n",
    "        new_sequences.append(tokenizer.encode(frvw))\n",
    "        \n",
    "    trunc_type = 'post'\n",
    "    padding_type = 'post'\n",
    "\n",
    "    new_reviews_padded = pad_sequences(new_sequences, maxlen=max_length, truncating=trunc_type, padding=padding_type)\n",
    "\n",
    "    classes = model.predict(new_reviews_padded)\n",
    "    \n",
    "    for x in range(len(new_sentences)):\n",
    "        if (show_padded_sequence):\n",
    "            print(new_reviews_padded[x])\n",
    "            \n",
    "        print(new_sentences[x])\n",
    "        print(classes[x])\n",
    "        print('\\n')"
   ]
  },
  {
   "cell_type": "code",
   "execution_count": 17,
   "id": "1780c0a4",
   "metadata": {},
   "outputs": [
    {
     "name": "stdout",
     "output_type": "stream",
     "text": [
      "[  4 281  16  25   0   0   0   0   0   0   0   0   0   0   0   0   0   0\n",
      "   0   0   0   0   0   0   0   0   0   0   0   0   0   0   0   0   0   0\n",
      "   0   0   0   0   0   0   0   0   0   0   0   0   0   0]\n",
      "I love this phone\n",
      "[0.93192315]\n",
      "\n",
      "\n",
      "[812 227 864 100 775   9 525 843   0   0   0   0   0   0   0   0   0   0\n",
      "   0   0   0   0   0   0   0   0   0   0   0   0   0   0   0   0   0   0\n",
      "   0   0   0   0   0   0   0   0   0   0   0   0   0   0]\n",
      "Everything was cold\n",
      "[0.14796725]\n",
      "\n",
      "\n",
      "[812 227 864 100 775   9 109   8 333 731  24  61   4 171  59  77   0   0\n",
      "   0   0   0   0   0   0   0   0   0   0   0   0   0   0   0   0   0   0\n",
      "   0   0   0   0   0   0   0   0   0   0   0   0   0   0]\n",
      "Everything was hot exactly as I wanted\n",
      "[0.3902477]\n",
      "\n",
      "\n",
      "[812 227 864 100 775   9 157 359 853   0   0   0   0   0   0   0   0   0\n",
      "   0   0   0   0   0   0   0   0   0   0   0   0   0   0   0   0   0   0\n",
      "   0   0   0   0   0   0   0   0   0   0   0   0   0   0]\n",
      "Everything was green\n",
      "[0.13354483]\n",
      "\n",
      "\n",
      "[  1 109 228 540 237 635 241 423 340  89 298   0   0   0   0   0   0   0\n",
      "   0   0   0   0   0   0   0   0   0   0   0   0   0   0   0   0   0   0\n",
      "   0   0   0   0   0   0   0   0   0   0   0   0   0   0]\n",
      "the host seated us immediately\n",
      "[0.52236503]\n",
      "\n",
      "\n",
      "[154 242  47 635 341  12 569 547 147 319 775 125  85   0   0   0   0   0\n",
      "   0   0   0   0   0   0   0   0   0   0   0   0   0   0   0   0   0   0\n",
      "   0   0   0   0   0   0   0   0   0   0   0   0   0   0]\n",
      "they gave us free chocolate cake\n",
      "[0.79072785]\n",
      "\n",
      "\n",
      "[158 190 853 782   8 607 775 210 232 146 775 470  67 305 101  15   1 328\n",
      " 296  26  19   1 661 641 195   0   0   0   0   0   0   0   0   0   0   0\n",
      "   0   0   0   0   0   0   0   0   0   0   0   0   0   0]\n",
      "we couldn't hear each other talk because of the shouting in the kitchen\n",
      "[0.01523754]\n",
      "\n",
      "\n"
     ]
    }
   ],
   "source": [
    "# Use the model to predict some reviews   \n",
    "fake_reviews = [\"I love this phone\", \n",
    "                \"Everything was cold\",\n",
    "                \"Everything was hot exactly as I wanted\", \n",
    "                \"Everything was green\", \n",
    "                \"the host seated us immediately\",\n",
    "                \"they gave us free chocolate cake\", \n",
    "                \"we couldn't hear each other talk because of the shouting in the kitchen\"\n",
    "              ]\n",
    "\n",
    "predict_review(model, fake_reviews)\n"
   ]
  },
  {
   "cell_type": "markdown",
   "id": "9d97e051",
   "metadata": {},
   "source": [
    "## Define a function to train and show the results of models with different layers"
   ]
  },
  {
   "cell_type": "code",
   "execution_count": 26,
   "id": "e79e0978",
   "metadata": {},
   "outputs": [],
   "source": [
    "def fit_model_now(model, sentences):\n",
    "    model.compile(loss='binary_crossentropy',optimizer='adam',metrics=['accuracy'])\n",
    "    model.summary()\n",
    "    history = model.fit(training_sequences, training_labels_final, epochs=num_epochs, validation_data=(testing_sequences, testing_labels_final))\n",
    "    return history\n",
    "\n",
    "def plot_results(history):\n",
    "    plot_graphs(history, 'accuracy')\n",
    "    plot_graphs(history, 'loss')\n",
    "    \n",
    "def fit_model_and_show_result(model, sentences):\n",
    "    history = fit_model_now(model, sentences)\n",
    "    plot_results(history)\n",
    "    predict_review(model,sentences)"
   ]
  },
  {
   "cell_type": "markdown",
   "id": "fa01fb59",
   "metadata": {},
   "source": [
    "## Add a bidirectional LSTM"
   ]
  },
  {
   "cell_type": "code",
   "execution_count": 25,
   "id": "c0592a59",
   "metadata": {},
   "outputs": [
    {
     "name": "stdout",
     "output_type": "stream",
     "text": [
      "Model: \"sequential_4\"\n",
      "_________________________________________________________________\n",
      "Layer (type)                 Output Shape              Param #   \n",
      "=================================================================\n",
      "embedding_5 (Embedding)      (None, 50, 16)            16000     \n",
      "_________________________________________________________________\n",
      "bidirectional_4 (Bidirection (None, 32)                4224      \n",
      "_________________________________________________________________\n",
      "dense_9 (Dense)              (None, 6)                 198       \n",
      "_________________________________________________________________\n",
      "dense_10 (Dense)             (None, 1)                 7         \n",
      "=================================================================\n",
      "Total params: 20,429\n",
      "Trainable params: 20,429\n",
      "Non-trainable params: 0\n",
      "_________________________________________________________________\n",
      "Epoch 1/30\n",
      "50/50 [==============================] - 5s 38ms/step - loss: 0.6902 - accuracy: 0.5487 - val_loss: 0.6890 - val_accuracy: 0.5113\n",
      "Epoch 2/30\n",
      "50/50 [==============================] - 1s 21ms/step - loss: 0.6441 - accuracy: 0.6497 - val_loss: 0.5863 - val_accuracy: 0.7544\n",
      "Epoch 3/30\n",
      "50/50 [==============================] - 1s 19ms/step - loss: 0.4484 - accuracy: 0.7960 - val_loss: 0.5224 - val_accuracy: 0.7594\n",
      "Epoch 4/30\n",
      "50/50 [==============================] - 1s 19ms/step - loss: 0.3185 - accuracy: 0.8726 - val_loss: 0.4915 - val_accuracy: 0.7920\n",
      "Epoch 5/30\n",
      "50/50 [==============================] - 1s 20ms/step - loss: 0.2549 - accuracy: 0.9046 - val_loss: 0.5930 - val_accuracy: 0.7594\n",
      "Epoch 6/30\n",
      "50/50 [==============================] - 1s 23ms/step - loss: 0.2151 - accuracy: 0.9196 - val_loss: 0.6211 - val_accuracy: 0.7343\n",
      "Epoch 7/30\n",
      "50/50 [==============================] - 1s 19ms/step - loss: 0.1838 - accuracy: 0.9416 - val_loss: 0.7871 - val_accuracy: 0.7293\n",
      "Epoch 8/30\n",
      "50/50 [==============================] - 1s 23ms/step - loss: 0.1504 - accuracy: 0.9529 - val_loss: 0.7176 - val_accuracy: 0.7519\n",
      "Epoch 9/30\n",
      "50/50 [==============================] - 1s 20ms/step - loss: 0.1305 - accuracy: 0.9611 - val_loss: 0.7685 - val_accuracy: 0.7569\n",
      "Epoch 10/30\n",
      "50/50 [==============================] - 1s 20ms/step - loss: 0.1059 - accuracy: 0.9730 - val_loss: 0.7894 - val_accuracy: 0.7569\n",
      "Epoch 11/30\n",
      "50/50 [==============================] - 1s 21ms/step - loss: 0.1444 - accuracy: 0.9554 - val_loss: 0.7345 - val_accuracy: 0.7519\n",
      "Epoch 12/30\n",
      "50/50 [==============================] - 1s 22ms/step - loss: 0.1164 - accuracy: 0.9674 - val_loss: 0.8106 - val_accuracy: 0.7393\n",
      "Epoch 13/30\n",
      "50/50 [==============================] - 1s 25ms/step - loss: 0.0785 - accuracy: 0.9818 - val_loss: 0.9499 - val_accuracy: 0.7368\n",
      "Epoch 14/30\n",
      "50/50 [==============================] - 1s 21ms/step - loss: 0.0719 - accuracy: 0.9856 - val_loss: 1.1002 - val_accuracy: 0.7368\n",
      "Epoch 15/30\n",
      "50/50 [==============================] - 1s 19ms/step - loss: 0.0599 - accuracy: 0.9862 - val_loss: 1.0399 - val_accuracy: 0.7393\n",
      "Epoch 16/30\n",
      "50/50 [==============================] - 1s 19ms/step - loss: 0.0497 - accuracy: 0.9918 - val_loss: 1.1111 - val_accuracy: 0.7318\n",
      "Epoch 17/30\n",
      "50/50 [==============================] - 1s 20ms/step - loss: 0.0441 - accuracy: 0.9925 - val_loss: 0.9194 - val_accuracy: 0.7719\n",
      "Epoch 18/30\n",
      "50/50 [==============================] - 1s 21ms/step - loss: 0.0422 - accuracy: 0.9931 - val_loss: 1.1426 - val_accuracy: 0.7469\n",
      "Epoch 19/30\n",
      "50/50 [==============================] - 1s 19ms/step - loss: 0.0295 - accuracy: 0.9956 - val_loss: 1.1778 - val_accuracy: 0.7419\n",
      "Epoch 20/30\n",
      "50/50 [==============================] - 1s 19ms/step - loss: 0.0234 - accuracy: 0.9975 - val_loss: 1.2724 - val_accuracy: 0.7419\n",
      "Epoch 21/30\n",
      "50/50 [==============================] - 1s 19ms/step - loss: 0.0208 - accuracy: 0.9975 - val_loss: 1.1947 - val_accuracy: 0.7519\n",
      "Epoch 22/30\n",
      "50/50 [==============================] - 1s 23ms/step - loss: 0.0191 - accuracy: 0.9975 - val_loss: 1.2504 - val_accuracy: 0.7444\n",
      "Epoch 23/30\n",
      "50/50 [==============================] - 1s 20ms/step - loss: 0.0170 - accuracy: 0.9975 - val_loss: 1.2838 - val_accuracy: 0.7419\n",
      "Epoch 24/30\n",
      "50/50 [==============================] - 1s 20ms/step - loss: 0.0156 - accuracy: 0.9975 - val_loss: 1.3527 - val_accuracy: 0.7494\n",
      "Epoch 25/30\n",
      "50/50 [==============================] - 1s 20ms/step - loss: 0.0146 - accuracy: 0.9975 - val_loss: 1.3654 - val_accuracy: 0.7419\n",
      "Epoch 26/30\n",
      "50/50 [==============================] - 1s 20ms/step - loss: 0.0124 - accuracy: 0.9981 - val_loss: 1.4091 - val_accuracy: 0.7368\n",
      "Epoch 27/30\n",
      "50/50 [==============================] - 1s 20ms/step - loss: 0.0103 - accuracy: 0.9987 - val_loss: 1.4355 - val_accuracy: 0.7469\n",
      "Epoch 28/30\n",
      "50/50 [==============================] - 1s 20ms/step - loss: 0.0925 - accuracy: 0.9674 - val_loss: 1.4521 - val_accuracy: 0.6967\n",
      "Epoch 29/30\n",
      "50/50 [==============================] - 1s 20ms/step - loss: 0.1142 - accuracy: 0.9592 - val_loss: 0.9068 - val_accuracy: 0.7794\n",
      "Epoch 30/30\n",
      "50/50 [==============================] - 1s 20ms/step - loss: 0.0426 - accuracy: 0.9893 - val_loss: 1.0636 - val_accuracy: 0.7719\n"
     ]
    },
    {
     "data": {
      "image/png": "[encoded data removed]",
      "text/plain": [
       "<Figure size 432x288 with 1 Axes>"
      ]
     },
     "metadata": {
      "needs_background": "light"
     },
     "output_type": "display_data"
    },
    {
     "data": {
      "image/png": "[encoded data removed]",
      "text/plain": [
       "<Figure size 432x288 with 1 Axes>"
      ]
     },
     "metadata": {
      "needs_background": "light"
     },
     "output_type": "display_data"
    },
    {
     "name": "stdout",
     "output_type": "stream",
     "text": [
      "[  4 281  16  25   0   0   0   0   0   0   0   0   0   0   0   0   0   0\n",
      "   0   0   0   0   0   0   0   0   0   0   0   0   0   0   0   0   0   0\n",
      "   0   0   0   0   0   0   0   0   0   0   0   0   0   0]\n",
      "I love this phone\n",
      "[0.9980527]\n",
      "\n",
      "\n",
      "[812 227 864 100 775   9 525 843   0   0   0   0   0   0   0   0   0   0\n",
      "   0   0   0   0   0   0   0   0   0   0   0   0   0   0   0   0   0   0\n",
      "   0   0   0   0   0   0   0   0   0   0   0   0   0   0]\n",
      "Everything was cold\n",
      "[0.02435103]\n",
      "\n",
      "\n",
      "[812 227 864 100 775   9 109   8 333 731  24  61   4 171  59  77   0   0\n",
      "   0   0   0   0   0   0   0   0   0   0   0   0   0   0   0   0   0   0\n",
      "   0   0   0   0   0   0   0   0   0   0   0   0   0   0]\n",
      "Everything was hot exactly as I wanted\n",
      "[0.30581754]\n",
      "\n",
      "\n",
      "[812 227 864 100 775   9 157 359 853   0   0   0   0   0   0   0   0   0\n",
      "   0   0   0   0   0   0   0   0   0   0   0   0   0   0   0   0   0   0\n",
      "   0   0   0   0   0   0   0   0   0   0   0   0   0   0]\n",
      "Everything was green\n",
      "[0.09554511]\n",
      "\n",
      "\n",
      "[  1 109 228 540 237 635 241 423 340  89 298   0   0   0   0   0   0   0\n",
      "   0   0   0   0   0   0   0   0   0   0   0   0   0   0   0   0   0   0\n",
      "   0   0   0   0   0   0   0   0   0   0   0   0   0   0]\n",
      "the host seated us immediately\n",
      "[0.98273486]\n",
      "\n",
      "\n",
      "[154 242  47 635 341  12 569 547 147 319 775 125  85   0   0   0   0   0\n",
      "   0   0   0   0   0   0   0   0   0   0   0   0   0   0   0   0   0   0\n",
      "   0   0   0   0   0   0   0   0   0   0   0   0   0   0]\n",
      "they gave us free chocolate cake\n",
      "[0.8938354]\n",
      "\n",
      "\n",
      "[158 190 853 782   8 607 775 210 232 146 775 470  67 305 101  15   1 328\n",
      " 296  26  19   1 661 641 195   0   0   0   0   0   0   0   0   0   0   0\n",
      "   0   0   0   0   0   0   0   0   0   0   0   0   0   0]\n",
      "we couldn't hear each other talk because of the shouting in the kitchen\n",
      "[0.00783625]\n",
      "\n",
      "\n"
     ]
    }
   ],
   "source": [
    "model_bidi_lstm = tf.keras.Sequential([\n",
    "    tf.keras.layers.Embedding(vocab_size, embedding_dim, input_length=max_length),\n",
    "    tf.keras.layers.Bidirectional(tf.keras.layers.LSTM(embedding_dim)),\n",
    "    tf.keras.layers.Dense(6, activation='relu'),\n",
    "    tf.keras.layers.Dense(1, activation='sigmoid')\n",
    "])\n",
    "\n",
    "fit_model_and_show_result(model_bidi_lstm, fake_reviews)"
   ]
  },
  {
   "cell_type": "markdown",
   "id": "cb1dc6f8",
   "metadata": {},
   "source": [
    "## Use multiple bidirectional layers"
   ]
  },
  {
   "cell_type": "code",
   "execution_count": 32,
   "id": "34085946",
   "metadata": {},
   "outputs": [
    {
     "name": "stdout",
     "output_type": "stream",
     "text": [
      "Model: \"sequential_5\"\n",
      "_________________________________________________________________\n",
      "Layer (type)                 Output Shape              Param #   \n",
      "=================================================================\n",
      "embedding_8 (Embedding)      (None, 50, 16)            16000     \n",
      "_________________________________________________________________\n",
      "bidirectional_7 (Bidirection (None, 50, 32)            4224      \n",
      "_________________________________________________________________\n",
      "bidirectional_8 (Bidirection (None, 32)                6272      \n",
      "_________________________________________________________________\n",
      "dense_11 (Dense)             (None, 6)                 198       \n",
      "_________________________________________________________________\n",
      "dense_12 (Dense)             (None, 1)                 7         \n",
      "=================================================================\n",
      "Total params: 26,701\n",
      "Trainable params: 26,701\n",
      "Non-trainable params: 0\n",
      "_________________________________________________________________\n",
      "Epoch 1/30\n",
      "50/50 [==============================] - 8s 58ms/step - loss: 0.6907 - accuracy: 0.5223 - val_loss: 0.6952 - val_accuracy: 0.4110\n",
      "Epoch 2/30\n",
      "50/50 [==============================] - 2s 36ms/step - loss: 0.6412 - accuracy: 0.6108 - val_loss: 0.6214 - val_accuracy: 0.7494\n",
      "Epoch 3/30\n",
      "50/50 [==============================] - 2s 37ms/step - loss: 0.4554 - accuracy: 0.8186 - val_loss: 0.6196 - val_accuracy: 0.7318\n",
      "Epoch 4/30\n",
      "50/50 [==============================] - 2s 37ms/step - loss: 0.3464 - accuracy: 0.8675 - val_loss: 0.5307 - val_accuracy: 0.7694\n",
      "Epoch 5/30\n",
      "50/50 [==============================] - 2s 36ms/step - loss: 0.2837 - accuracy: 0.8952 - val_loss: 0.5601 - val_accuracy: 0.7444\n",
      "Epoch 6/30\n",
      "50/50 [==============================] - 2s 37ms/step - loss: 0.2319 - accuracy: 0.9247 - val_loss: 0.7019 - val_accuracy: 0.7469\n",
      "Epoch 7/30\n",
      "50/50 [==============================] - 2s 36ms/step - loss: 0.1807 - accuracy: 0.9473 - val_loss: 0.8612 - val_accuracy: 0.7318\n",
      "Epoch 8/30\n",
      "50/50 [==============================] - 2s 40ms/step - loss: 0.1633 - accuracy: 0.9498 - val_loss: 0.7711 - val_accuracy: 0.7519\n",
      "Epoch 9/30\n",
      "50/50 [==============================] - 2s 38ms/step - loss: 0.1530 - accuracy: 0.9542 - val_loss: 0.8952 - val_accuracy: 0.7243\n",
      "Epoch 10/30\n",
      "50/50 [==============================] - 2s 41ms/step - loss: 0.1341 - accuracy: 0.9598 - val_loss: 0.7414 - val_accuracy: 0.7519\n",
      "Epoch 11/30\n",
      "50/50 [==============================] - 2s 34ms/step - loss: 0.1168 - accuracy: 0.9667 - val_loss: 0.8374 - val_accuracy: 0.7393\n",
      "Epoch 12/30\n",
      "50/50 [==============================] - 2s 33ms/step - loss: 0.1266 - accuracy: 0.9642 - val_loss: 0.8681 - val_accuracy: 0.7469\n",
      "Epoch 13/30\n",
      "50/50 [==============================] - 2s 34ms/step - loss: 0.1089 - accuracy: 0.9686 - val_loss: 0.8396 - val_accuracy: 0.7469\n",
      "Epoch 14/30\n",
      "50/50 [==============================] - 2s 37ms/step - loss: 0.0927 - accuracy: 0.9793 - val_loss: 0.9123 - val_accuracy: 0.7544\n",
      "Epoch 15/30\n",
      "50/50 [==============================] - 2s 37ms/step - loss: 0.0796 - accuracy: 0.9799 - val_loss: 1.0221 - val_accuracy: 0.7343\n",
      "Epoch 16/30\n",
      "50/50 [==============================] - 2s 33ms/step - loss: 0.0710 - accuracy: 0.9843 - val_loss: 1.1845 - val_accuracy: 0.7293\n",
      "Epoch 17/30\n",
      "50/50 [==============================] - 2s 37ms/step - loss: 0.0721 - accuracy: 0.9824 - val_loss: 1.2036 - val_accuracy: 0.7419\n",
      "Epoch 18/30\n",
      "50/50 [==============================] - 2s 40ms/step - loss: 0.0722 - accuracy: 0.9824 - val_loss: 1.1835 - val_accuracy: 0.7419\n",
      "Epoch 19/30\n",
      "50/50 [==============================] - 2s 38ms/step - loss: 0.0642 - accuracy: 0.9849 - val_loss: 1.1524 - val_accuracy: 0.7444\n",
      "Epoch 20/30\n",
      "50/50 [==============================] - 2s 37ms/step - loss: 0.0640 - accuracy: 0.9849 - val_loss: 1.2349 - val_accuracy: 0.7343\n",
      "Epoch 21/30\n",
      "50/50 [==============================] - 2s 39ms/step - loss: 0.0624 - accuracy: 0.9862 - val_loss: 1.3751 - val_accuracy: 0.7168\n",
      "Epoch 22/30\n",
      "50/50 [==============================] - 2s 38ms/step - loss: 0.0684 - accuracy: 0.9849 - val_loss: 1.3026 - val_accuracy: 0.7268\n",
      "Epoch 23/30\n",
      "50/50 [==============================] - 2s 42ms/step - loss: 0.0590 - accuracy: 0.9874 - val_loss: 1.2764 - val_accuracy: 0.7444\n",
      "Epoch 24/30\n",
      "50/50 [==============================] - 2s 38ms/step - loss: 0.0546 - accuracy: 0.9887 - val_loss: 1.3480 - val_accuracy: 0.7419\n",
      "Epoch 25/30\n",
      "50/50 [==============================] - 2s 39ms/step - loss: 0.0541 - accuracy: 0.9887 - val_loss: 1.3532 - val_accuracy: 0.7419\n",
      "Epoch 26/30\n",
      "50/50 [==============================] - 2s 42ms/step - loss: 0.0540 - accuracy: 0.9887 - val_loss: 1.3760 - val_accuracy: 0.7393\n",
      "Epoch 27/30\n",
      "50/50 [==============================] - 2s 38ms/step - loss: 0.0537 - accuracy: 0.9887 - val_loss: 1.3868 - val_accuracy: 0.7393\n",
      "Epoch 28/30\n",
      "50/50 [==============================] - 2s 37ms/step - loss: 0.0534 - accuracy: 0.9887 - val_loss: 1.4071 - val_accuracy: 0.7368\n",
      "Epoch 29/30\n",
      "50/50 [==============================] - 2s 37ms/step - loss: 0.0531 - accuracy: 0.9887 - val_loss: 1.4192 - val_accuracy: 0.7343\n",
      "Epoch 30/30\n",
      "50/50 [==============================] - 2s 42ms/step - loss: 0.0603 - accuracy: 0.9849 - val_loss: 1.5486 - val_accuracy: 0.7193\n"
     ]
    },
    {
     "data": {
      "image/png": "[encoded data removed]",
      "text/plain": [
       "<Figure size 432x288 with 1 Axes>"
      ]
     },
     "metadata": {
      "needs_background": "light"
     },
     "output_type": "display_data"
    },
    {
     "data": {
      "image/png": "[encoded data removed]",
      "text/plain": [
       "<Figure size 432x288 with 1 Axes>"
      ]
     },
     "metadata": {
      "needs_background": "light"
     },
     "output_type": "display_data"
    },
    {
     "name": "stdout",
     "output_type": "stream",
     "text": [
      "[  4 281  16  25   0   0   0   0   0   0   0   0   0   0   0   0   0   0\n",
      "   0   0   0   0   0   0   0   0   0   0   0   0   0   0   0   0   0   0\n",
      "   0   0   0   0   0   0   0   0   0   0   0   0   0   0]\n",
      "I love this phone\n",
      "[0.9999122]\n",
      "\n",
      "\n",
      "[812 227 864 100 775   9 525 843   0   0   0   0   0   0   0   0   0   0\n",
      "   0   0   0   0   0   0   0   0   0   0   0   0   0   0   0   0   0   0\n",
      "   0   0   0   0   0   0   0   0   0   0   0   0   0   0]\n",
      "Everything was cold\n",
      "[0.02348533]\n",
      "\n",
      "\n",
      "[812 227 864 100 775   9 109   8 333 731  24  61   4 171  59  77   0   0\n",
      "   0   0   0   0   0   0   0   0   0   0   0   0   0   0   0   0   0   0\n",
      "   0   0   0   0   0   0   0   0   0   0   0   0   0   0]\n",
      "Everything was hot exactly as I wanted\n",
      "[0.9993645]\n",
      "\n",
      "\n",
      "[812 227 864 100 775   9 157 359 853   0   0   0   0   0   0   0   0   0\n",
      "   0   0   0   0   0   0   0   0   0   0   0   0   0   0   0   0   0   0\n",
      "   0   0   0   0   0   0   0   0   0   0   0   0   0   0]\n",
      "Everything was green\n",
      "[0.02561072]\n",
      "\n",
      "\n",
      "[  1 109 228 540 237 635 241 423 340  89 298   0   0   0   0   0   0   0\n",
      "   0   0   0   0   0   0   0   0   0   0   0   0   0   0   0   0   0   0\n",
      "   0   0   0   0   0   0   0   0   0   0   0   0   0   0]\n",
      "the host seated us immediately\n",
      "[0.99972683]\n",
      "\n",
      "\n",
      "[154 242  47 635 341  12 569 547 147 319 775 125  85   0   0   0   0   0\n",
      "   0   0   0   0   0   0   0   0   0   0   0   0   0   0   0   0   0   0\n",
      "   0   0   0   0   0   0   0   0   0   0   0   0   0   0]\n",
      "they gave us free chocolate cake\n",
      "[0.9998851]\n",
      "\n",
      "\n",
      "[158 190 853 782   8 607 775 210 232 146 775 470  67 305 101  15   1 328\n",
      " 296  26  19   1 661 641 195   0   0   0   0   0   0   0   0   0   0   0\n",
      "   0   0   0   0   0   0   0   0   0   0   0   0   0   0]\n",
      "we couldn't hear each other talk because of the shouting in the kitchen\n",
      "[0.02362043]\n",
      "\n",
      "\n"
     ]
    }
   ],
   "source": [
    "model_multiple_bidi_lstm = tf.keras.Sequential([\n",
    "    tf.keras.layers.Embedding(vocab_size, embedding_dim, input_length=max_length),\n",
    "    tf.keras.layers.Bidirectional(tf.keras.layers.LSTM(embedding_dim, return_sequences=True)),\n",
    "    tf.keras.layers.Bidirectional(tf.keras.layers.LSTM(embedding_dim)),\n",
    "    tf.keras.layers.Dense(6, activation='relu'),\n",
    "    tf.keras.layers.Dense(1, activation='sigmoid')\n",
    "])\n",
    "\n",
    "fit_model_and_show_result(model_multiple_bidi_lstm, fake_reviews)"
   ]
  },
  {
   "cell_type": "markdown",
   "id": "e50beae6",
   "metadata": {},
   "source": [
    "## Compare predictions for all the models"
   ]
  },
  {
   "cell_type": "code",
   "execution_count": 33,
   "id": "1509d008",
   "metadata": {},
   "outputs": [],
   "source": [
    "my_reviews =[\"lovely\", \"dreadful\", \"stay away\",\n",
    "             \"everything was hot exactly as I wanted\",\n",
    "             \"everything was not exactly as I wanted\",\n",
    "             \"they gave us free chocolate cake\",\n",
    "             \"I've never eaten anything so spicy in my life, my throat burned for hours\",\n",
    "             \"for a phone that is as expensive as this one I expect it to be much easier to use than this thing is\",\n",
    "             \"we left there very full for a low price so I'd say you just can't go wrong at this place\",\n",
    "             \"that place does not have quality meals and it isn't a good place to go for dinner\",\n",
    "             ]"
   ]
  },
  {
   "cell_type": "code",
   "execution_count": 34,
   "id": "5b9cc0b7",
   "metadata": {},
   "outputs": [
    {
     "name": "stdout",
     "output_type": "stream",
     "text": [
      "===================================\n",
      " Embeddings only:\n",
      " ===================================\n",
      "lovely\n",
      "[0.94860995]\n",
      "\n",
      "\n",
      "dreadful\n",
      "[0.39442426]\n",
      "\n",
      "\n",
      "stay away\n",
      "[0.7364242]\n",
      "\n",
      "\n",
      "everything was hot exactly as I wanted\n",
      "[0.8135667]\n",
      "\n",
      "\n",
      "everything was not exactly as I wanted\n",
      "[0.61190665]\n",
      "\n",
      "\n",
      "they gave us free chocolate cake\n",
      "[0.79072785]\n",
      "\n",
      "\n",
      "I've never eaten anything so spicy in my life, my throat burned for hours\n",
      "[0.02277398]\n",
      "\n",
      "\n",
      "for a phone that is as expensive as this one I expect it to be much easier to use than this thing is\n",
      "[0.65308565]\n",
      "\n",
      "\n",
      "we left there very full for a low price so I'd say you just can't go wrong at this place\n",
      "[0.8354614]\n",
      "\n",
      "\n",
      "that place does not have quality meals and it isn't a good place to go for dinner\n",
      "[0.90909106]\n",
      "\n",
      "\n"
     ]
    }
   ],
   "source": [
    "print(\"===================================\\n\",\"Embeddings only:\\n\", \"===================================\",)\n",
    "predict_review(model, my_reviews, show_padded_sequence=False)"
   ]
  },
  {
   "cell_type": "code",
   "execution_count": 35,
   "id": "39aa67b8",
   "metadata": {},
   "outputs": [
    {
     "name": "stdout",
     "output_type": "stream",
     "text": [
      "===================================\n",
      " With a single bidirectional LSTM:\n",
      " ===================================\n",
      "lovely\n",
      "[0.9958497]\n",
      "\n",
      "\n",
      "dreadful\n",
      "[0.00983953]\n",
      "\n",
      "\n",
      "stay away\n",
      "[0.0321736]\n",
      "\n",
      "\n",
      "everything was hot exactly as I wanted\n",
      "[0.94402105]\n",
      "\n",
      "\n",
      "everything was not exactly as I wanted\n",
      "[0.08452785]\n",
      "\n",
      "\n",
      "they gave us free chocolate cake\n",
      "[0.8938354]\n",
      "\n",
      "\n",
      "I've never eaten anything so spicy in my life, my throat burned for hours\n",
      "[0.01047695]\n",
      "\n",
      "\n",
      "for a phone that is as expensive as this one I expect it to be much easier to use than this thing is\n",
      "[0.77855897]\n",
      "\n",
      "\n",
      "we left there very full for a low price so I'd say you just can't go wrong at this place\n",
      "[0.9995584]\n",
      "\n",
      "\n",
      "that place does not have quality meals and it isn't a good place to go for dinner\n",
      "[0.5250124]\n",
      "\n",
      "\n"
     ]
    }
   ],
   "source": [
    "print(\"===================================\\n\", \"With a single bidirectional LSTM:\\n\", \"===================================\")\n",
    "predict_review(model_bidi_lstm, my_reviews, show_padded_sequence=False)"
   ]
  },
  {
   "cell_type": "code",
   "execution_count": 36,
   "id": "7fa7d57c",
   "metadata": {},
   "outputs": [
    {
     "name": "stdout",
     "output_type": "stream",
     "text": [
      "===================================\n",
      " With two bidirectional LSTMs:\n",
      " ===================================\n",
      "lovely\n",
      "[0.9999099]\n",
      "\n",
      "\n",
      "dreadful\n",
      "[0.04256409]\n",
      "\n",
      "\n",
      "stay away\n",
      "[0.03402835]\n",
      "\n",
      "\n",
      "everything was hot exactly as I wanted\n",
      "[0.99954134]\n",
      "\n",
      "\n",
      "everything was not exactly as I wanted\n",
      "[0.07044145]\n",
      "\n",
      "\n",
      "they gave us free chocolate cake\n",
      "[0.9998851]\n",
      "\n",
      "\n",
      "I've never eaten anything so spicy in my life, my throat burned for hours\n",
      "[0.02745017]\n",
      "\n",
      "\n",
      "for a phone that is as expensive as this one I expect it to be much easier to use than this thing is\n",
      "[0.0257054]\n",
      "\n",
      "\n",
      "we left there very full for a low price so I'd say you just can't go wrong at this place\n",
      "[0.9951377]\n",
      "\n",
      "\n",
      "that place does not have quality meals and it isn't a good place to go for dinner\n",
      "[0.0341965]\n",
      "\n",
      "\n"
     ]
    }
   ],
   "source": [
    "print(\"===================================\\n\",\"With two bidirectional LSTMs:\\n\", \"===================================\")\n",
    "predict_review(model_multiple_bidi_lstm, my_reviews, show_padded_sequence=False)"
   ]
  },
  {
   "cell_type": "code",
   "execution_count": null,
   "id": "1aebc97d",
   "metadata": {},
   "outputs": [],
   "source": []
  }
 ],
 "metadata": {
  "kernelspec": {
   "display_name": "Python 3",
   "language": "python",
   "name": "python3"
  },
  "language_info": {
   "codemirror_mode": {
    "name": "ipython",
    "version": 3
   },
   "file_extension": ".py",
   "mimetype": "text/x-python",
   "name": "python",
   "nbconvert_exporter": "python",
   "pygments_lexer": "ipython3",
   "version": "3.6.13"
  }
 },
 "nbformat": 4,
 "nbformat_minor": 5
}
